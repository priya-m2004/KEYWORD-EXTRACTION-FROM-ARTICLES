{
  "nbformat": 4,
  "nbformat_minor": 0,
  "metadata": {
    "colab": {
      "provenance": []
    },
    "kernelspec": {
      "name": "python3",
      "display_name": "Python 3"
    },
    "language_info": {
      "name": "python"
    }
  },
  "cells": [
    {
      "cell_type": "code",
      "execution_count": null,
      "metadata": {
        "colab": {
          "base_uri": "https://localhost:8080/"
        },
        "id": "0ZqTVOIKnLn7",
        "outputId": "a02341c8-66a4-471c-a854-d704af96ee4e"
      },
      "outputs": [
        {
          "output_type": "stream",
          "name": "stdout",
          "text": [
            "Cloning into 'rake-nltk'...\n",
            "remote: Enumerating objects: 600, done.\u001b[K\n",
            "remote: Counting objects: 100% (43/43), done.\u001b[K\n",
            "remote: Compressing objects: 100% (24/24), done.\u001b[K\n",
            "remote: Total 600 (delta 22), reused 19 (delta 19), pack-reused 557 (from 1)\u001b[K\n",
            "Receiving objects: 100% (600/600), 490.24 KiB | 2.36 MiB/s, done.\n",
            "Resolving deltas: 100% (339/339), done.\n"
          ]
        }
      ],
      "source": [
        "!git clone https://github.com/csurfer/rake-nltk.git\n"
      ]
    },
    {
      "cell_type": "code",
      "source": [
        "%cd rake-nltk/docs"
      ],
      "metadata": {
        "colab": {
          "base_uri": "https://localhost:8080/"
        },
        "id": "fpgnsEUDnlDv",
        "outputId": "700c040d-d35a-4780-ff6e-e8839276d784"
      },
      "execution_count": null,
      "outputs": [
        {
          "output_type": "stream",
          "name": "stdout",
          "text": [
            "/content/rake-nltk/docs\n"
          ]
        }
      ]
    },
    {
      "cell_type": "code",
      "source": [
        "!ls"
      ],
      "metadata": {
        "colab": {
          "base_uri": "https://localhost:8080/"
        },
        "id": "4HC0y2klnuIH",
        "outputId": "7c45ef21-f9bb-46c2-89b1-9d766c68ff1d"
      },
      "execution_count": null,
      "outputs": [
        {
          "output_type": "stream",
          "name": "stdout",
          "text": [
            "advanced.rst  _build   index.html  make.bat  _templates\n",
            "api.rst       conf.py  index.rst   Makefile\n"
          ]
        }
      ]
    },
    {
      "cell_type": "code",
      "source": [
        "!pip install rake-nltk\n"
      ],
      "metadata": {
        "colab": {
          "base_uri": "https://localhost:8080/"
        },
        "id": "q76y2b7PqcZ1",
        "outputId": "97977ddf-ff56-49ae-a88d-6fdb5694af41"
      },
      "execution_count": null,
      "outputs": [
        {
          "output_type": "stream",
          "name": "stdout",
          "text": [
            "Collecting rake-nltk\n",
            "  Downloading rake_nltk-1.0.6-py3-none-any.whl.metadata (6.4 kB)\n",
            "Requirement already satisfied: nltk<4.0.0,>=3.6.2 in /usr/local/lib/python3.11/dist-packages (from rake-nltk) (3.9.1)\n",
            "Requirement already satisfied: click in /usr/local/lib/python3.11/dist-packages (from nltk<4.0.0,>=3.6.2->rake-nltk) (8.1.8)\n",
            "Requirement already satisfied: joblib in /usr/local/lib/python3.11/dist-packages (from nltk<4.0.0,>=3.6.2->rake-nltk) (1.4.2)\n",
            "Requirement already satisfied: regex>=2021.8.3 in /usr/local/lib/python3.11/dist-packages (from nltk<4.0.0,>=3.6.2->rake-nltk) (2024.11.6)\n",
            "Requirement already satisfied: tqdm in /usr/local/lib/python3.11/dist-packages (from nltk<4.0.0,>=3.6.2->rake-nltk) (4.67.1)\n",
            "Downloading rake_nltk-1.0.6-py3-none-any.whl (9.1 kB)\n",
            "Installing collected packages: rake-nltk\n",
            "Successfully installed rake-nltk-1.0.6\n"
          ]
        }
      ]
    },
    {
      "cell_type": "code",
      "source": [
        "from rake_nltk import Rake"
      ],
      "metadata": {
        "id": "j61SzM6nqhGs"
      },
      "execution_count": null,
      "outputs": []
    },
    {
      "cell_type": "markdown",
      "source": [
        "Imports the NLTK library and downloads the list of stopwords used for filtering out common words in text."
      ],
      "metadata": {
        "id": "EwWzbkTT9X6A"
      }
    },
    {
      "cell_type": "code",
      "source": [
        "import nltk\n",
        "nltk.download('stopwords')\n"
      ],
      "metadata": {
        "colab": {
          "base_uri": "https://localhost:8080/"
        },
        "id": "Nil59UK2rYWb",
        "outputId": "b0666538-d3a5-4a0e-d96b-e26c0a1663a3"
      },
      "execution_count": null,
      "outputs": [
        {
          "output_type": "stream",
          "name": "stderr",
          "text": [
            "[nltk_data] Downloading package stopwords to /root/nltk_data...\n",
            "[nltk_data]   Package stopwords is already up-to-date!\n"
          ]
        },
        {
          "output_type": "execute_result",
          "data": {
            "text/plain": [
              "True"
            ]
          },
          "metadata": {},
          "execution_count": 87
        }
      ]
    },
    {
      "cell_type": "markdown",
      "source": [
        "Imports NLTK and downloads the 'punkt' tokenizer model for sentence splitting and word tokenization."
      ],
      "metadata": {
        "id": "i8mOOLn-9hm3"
      }
    },
    {
      "cell_type": "code",
      "source": [
        "import nltk\n",
        "nltk.download('punkt')\n",
        "nltk.download('punkt_tab')\n"
      ],
      "metadata": {
        "colab": {
          "base_uri": "https://localhost:8080/"
        },
        "id": "aD12NoS1rqhM",
        "outputId": "bbf1b715-08e1-44cb-e11c-1019d3fd6ca1"
      },
      "execution_count": null,
      "outputs": [
        {
          "output_type": "stream",
          "name": "stderr",
          "text": [
            "[nltk_data] Downloading package punkt to /root/nltk_data...\n",
            "[nltk_data]   Package punkt is already up-to-date!\n",
            "[nltk_data] Downloading package punkt_tab to /root/nltk_data...\n",
            "[nltk_data]   Package punkt_tab is already up-to-date!\n"
          ]
        },
        {
          "output_type": "execute_result",
          "data": {
            "text/plain": [
              "True"
            ]
          },
          "metadata": {},
          "execution_count": 10
        }
      ]
    },
    {
      "cell_type": "markdown",
      "source": [
        "Imports NLTK and downloads the stopwords list used to remove common words during text preprocessing."
      ],
      "metadata": {
        "id": "OhnsdHyO9mgH"
      }
    },
    {
      "cell_type": "code",
      "source": [
        "import nltk\n",
        "nltk.download('stopwords')\n"
      ],
      "metadata": {
        "colab": {
          "base_uri": "https://localhost:8080/"
        },
        "id": "PiFupyxuwkfL",
        "outputId": "7feada62-0bff-49cc-df75-bb6dd70fecbf"
      },
      "execution_count": null,
      "outputs": [
        {
          "output_type": "stream",
          "name": "stderr",
          "text": [
            "[nltk_data] Downloading package stopwords to /root/nltk_data...\n",
            "[nltk_data]   Unzipping corpora/stopwords.zip.\n"
          ]
        },
        {
          "output_type": "execute_result",
          "data": {
            "text/plain": [
              "True"
            ]
          },
          "metadata": {},
          "execution_count": 13
        }
      ]
    },
    {
      "cell_type": "code",
      "source": [
        "r = Rake()\n",
        "\n",
        "myText = '''\n",
        "Keyword extraction allows business to sift through big data to capture the most important words that best\n",
        "describe the text (e.g. customer review) in just seconds, obtain insights about the topics that your customers are\n",
        "talking about while saving your teams many hours of manual processing.\n",
        "It also provides you with actionable insights that you can use to make better business decisions.\n",
        "The best thing about keyword extraction models is that they are easy to set up and implement.\n",
        "Keyword extraction can help you obtain the most important keywords or key phrases from a given text without having to actually read a single line.\n",
        "'''\n",
        "\n",
        "r.extract_keywords_from_text(myText)\n",
        "\n",
        "r.get_ranked_phrases()"
      ],
      "metadata": {
        "colab": {
          "base_uri": "https://localhost:8080/"
        },
        "id": "9G05Z6d1q_qE",
        "outputId": "b0ba4f81-e6b9-4507-b9ba-788744678b30"
      },
      "execution_count": null,
      "outputs": [
        {
          "output_type": "execute_result",
          "data": {
            "text/plain": [
              "['make better business decisions',\n",
              " 'keyword extraction allows business',\n",
              " 'teams many hours',\n",
              " 'keyword extraction models',\n",
              " 'given text without',\n",
              " 'keyword extraction',\n",
              " 'single line',\n",
              " 'manual processing',\n",
              " 'key phrases',\n",
              " 'important words',\n",
              " 'important keywords',\n",
              " 'customer review',\n",
              " 'big data',\n",
              " 'best thing',\n",
              " 'best describe',\n",
              " 'also provides',\n",
              " 'actually read',\n",
              " 'actionable insights',\n",
              " 'obtain insights',\n",
              " 'text',\n",
              " 'obtain',\n",
              " 'use',\n",
              " 'topics',\n",
              " 'talking',\n",
              " 'sift',\n",
              " 'set',\n",
              " 'seconds',\n",
              " 'saving',\n",
              " 'implement',\n",
              " 'help',\n",
              " 'g',\n",
              " 'easy',\n",
              " 'e',\n",
              " 'customers',\n",
              " 'capture']"
            ]
          },
          "metadata": {},
          "execution_count": 14
        }
      ]
    },
    {
      "cell_type": "code",
      "source": [
        "r.get_ranked_phrases_with_scores()"
      ],
      "metadata": {
        "colab": {
          "base_uri": "https://localhost:8080/"
        },
        "id": "IkZ7EOLJtUbL",
        "outputId": "851f66cf-40c0-4f5d-9e7f-2a5ede3d7096"
      },
      "execution_count": null,
      "outputs": [
        {
          "output_type": "execute_result",
          "data": {
            "text/plain": [
              "[(16.0, 'make better business decisions'),\n",
              " (14.0, 'keyword extraction allows business'),\n",
              " (9.0, 'teams many hours'),\n",
              " (9.0, 'keyword extraction models'),\n",
              " (8.0, 'given text without'),\n",
              " (6.0, 'keyword extraction'),\n",
              " (4.0, 'single line'),\n",
              " (4.0, 'manual processing'),\n",
              " (4.0, 'key phrases'),\n",
              " (4.0, 'important words'),\n",
              " (4.0, 'important keywords'),\n",
              " (4.0, 'customer review'),\n",
              " (4.0, 'big data'),\n",
              " (4.0, 'best thing'),\n",
              " (4.0, 'best describe'),\n",
              " (4.0, 'also provides'),\n",
              " (4.0, 'actually read'),\n",
              " (4.0, 'actionable insights'),\n",
              " (3.5, 'obtain insights'),\n",
              " (2.0, 'text'),\n",
              " (1.5, 'obtain'),\n",
              " (1.0, 'use'),\n",
              " (1.0, 'topics'),\n",
              " (1.0, 'talking'),\n",
              " (1.0, 'sift'),\n",
              " (1.0, 'set'),\n",
              " (1.0, 'seconds'),\n",
              " (1.0, 'saving'),\n",
              " (1.0, 'implement'),\n",
              " (1.0, 'help'),\n",
              " (1.0, 'g'),\n",
              " (1.0, 'easy'),\n",
              " (1.0, 'e'),\n",
              " (1.0, 'customers'),\n",
              " (1.0, 'capture')]"
            ]
          },
          "metadata": {},
          "execution_count": 90
        }
      ]
    },
    {
      "cell_type": "code",
      "source": [
        "# Import necessary libraries\n",
        "import urllib.request\n",
        "\n",
        "# Define the URL to download the file\n",
        "url = 'https://raw.githubusercontent.com/kavgan/nlp-in-practice/master/tf-idf/data/stackoverflow-data-idf.json'\n",
        "\n",
        "# Define the path where you want to save the file in Colab\n",
        "file_path = '/content/stackoverflow-data-idf.json'\n",
        "\n",
        "# Download the file\n",
        "urllib.request.urlretrieve(url, file_path)\n",
        "\n",
        "print(\"File downloaded successfully!\")\n"
      ],
      "metadata": {
        "colab": {
          "base_uri": "https://localhost:8080/"
        },
        "id": "YF_530jQuUXr",
        "outputId": "d6372b55-156f-4b09-a628-e8f254041a59"
      },
      "execution_count": null,
      "outputs": [
        {
          "output_type": "stream",
          "name": "stdout",
          "text": [
            "File downloaded successfully!\n"
          ]
        }
      ]
    },
    {
      "cell_type": "code",
      "source": [
        "import os\n",
        "\n",
        "# Check the current directory and list files\n",
        "print(os.listdir('/content/'))\n"
      ],
      "metadata": {
        "colab": {
          "base_uri": "https://localhost:8080/"
        },
        "id": "JvV7zejFuakz",
        "outputId": "c21dfd35-4ce4-4797-ea3b-5815828093b5"
      },
      "execution_count": null,
      "outputs": [
        {
          "output_type": "stream",
          "name": "stdout",
          "text": [
            "['.config', 'stackoverflow-data-idf.json', 'rake-nltk', 'sample_data']\n"
          ]
        }
      ]
    },
    {
      "cell_type": "code",
      "source": [
        "pip install pandas"
      ],
      "metadata": {
        "colab": {
          "base_uri": "https://localhost:8080/"
        },
        "id": "kw659Txzuf7Y",
        "outputId": "25f1562e-390d-4fcb-fd67-65c31521f9ba"
      },
      "execution_count": null,
      "outputs": [
        {
          "output_type": "stream",
          "name": "stdout",
          "text": [
            "Requirement already satisfied: pandas in /usr/local/lib/python3.11/dist-packages (2.2.2)\n",
            "Requirement already satisfied: numpy>=1.23.2 in /usr/local/lib/python3.11/dist-packages (from pandas) (2.0.2)\n",
            "Requirement already satisfied: python-dateutil>=2.8.2 in /usr/local/lib/python3.11/dist-packages (from pandas) (2.8.2)\n",
            "Requirement already satisfied: pytz>=2020.1 in /usr/local/lib/python3.11/dist-packages (from pandas) (2025.2)\n",
            "Requirement already satisfied: tzdata>=2022.7 in /usr/local/lib/python3.11/dist-packages (from pandas) (2025.2)\n",
            "Requirement already satisfied: six>=1.5 in /usr/local/lib/python3.11/dist-packages (from python-dateutil>=2.8.2->pandas) (1.17.0)\n"
          ]
        }
      ]
    },
    {
      "cell_type": "code",
      "source": [
        "import pandas as pd\n",
        "\n",
        "# Provide the full path to the file\n",
        "df_idf = pd.read_json(\"/content/stackoverflow-data-idf.json\", lines=True)\n",
        "\n",
        "# Print schema and shape\n",
        "print(\"Schema:\\n\\n\", df_idf.dtypes)\n",
        "print(\"Number of questions, columns =\", df_idf.shape)\n",
        "print(f'stackoverflow training dataset shape: {df_idf.shape}')\n"
      ],
      "metadata": {
        "colab": {
          "base_uri": "https://localhost:8080/"
        },
        "id": "Z4It-ygdt5Mh",
        "outputId": "3197c2c4-c00c-427a-eb99-b0eeae3aab56"
      },
      "execution_count": null,
      "outputs": [
        {
          "output_type": "stream",
          "name": "stdout",
          "text": [
            "Schema:\n",
            "\n",
            " id                            int64\n",
            "title                        object\n",
            "body                         object\n",
            "answer_count                  int64\n",
            "comment_count                 int64\n",
            "creation_date                object\n",
            "last_activity_date           object\n",
            "last_editor_display_name     object\n",
            "owner_display_name           object\n",
            "owner_user_id               float64\n",
            "post_type_id                  int64\n",
            "score                         int64\n",
            "tags                         object\n",
            "view_count                    int64\n",
            "accepted_answer_id          float64\n",
            "favorite_count              float64\n",
            "last_edit_date               object\n",
            "last_editor_user_id         float64\n",
            "community_owned_date         object\n",
            "dtype: object\n",
            "Number of questions, columns = (20000, 19)\n",
            "stackoverflow training dataset shape: (20000, 19)\n"
          ]
        }
      ]
    },
    {
      "cell_type": "code",
      "source": [
        "df_idf.head(3)"
      ],
      "metadata": {
        "colab": {
          "base_uri": "https://localhost:8080/",
          "height": 372
        },
        "id": "pijXd5DFz-ed",
        "outputId": "63df8cdd-1225-4fef-b022-b2318e47d1eb"
      },
      "execution_count": null,
      "outputs": [
        {
          "output_type": "execute_result",
          "data": {
            "text/plain": [
              "         id                                              title  \\\n",
              "0   4821394     Serializing a private struct - Can it be done?   \n",
              "1   3367882  How do I prevent floated-right content from ov...   \n",
              "2  31682135                                Gradle command line   \n",
              "\n",
              "                                                body  answer_count  \\\n",
              "0  <p>I have a public class that contains a priva...             1   \n",
              "1  <p>I have the following HTML:</p>\\n\\n<pre><cod...             2   \n",
              "2  <p>I'm trying to run a shell script with gradl...             0   \n",
              "\n",
              "   comment_count                creation_date           last_activity_date  \\\n",
              "0              0  2011-01-27 20:19:13.563 UTC   2011-01-27 20:21:37.59 UTC   \n",
              "1              2    2010-07-30 00:01:50.9 UTC  2012-05-10 14:16:05.143 UTC   \n",
              "2              2   2015-07-28 16:30:18.28 UTC  2015-07-28 16:32:15.117 UTC   \n",
              "\n",
              "  last_editor_display_name owner_display_name  owner_user_id  post_type_id  \\\n",
              "0                                                   163534.0             1   \n",
              "1                                                     1190.0             1   \n",
              "2                                                  1299158.0             1   \n",
              "\n",
              "   score                                tags  view_count  accepted_answer_id  \\\n",
              "0      0  c#|serialization|xml-serialization         296                 NaN   \n",
              "1      2         css|overflow|css-float|crop        4121           3367943.0   \n",
              "2      1    bash|shell|android-studio|gradle         259                 NaN   \n",
              "\n",
              "   favorite_count               last_edit_date  last_editor_user_id  \\\n",
              "0             NaN                          NaN                  NaN   \n",
              "1             0.0  2012-05-10 14:16:05.143 UTC              44390.0   \n",
              "2             NaN                          NaN                  NaN   \n",
              "\n",
              "  community_owned_date  \n",
              "0                  NaN  \n",
              "1                  NaN  \n",
              "2                  NaN  "
            ],
            "text/html": [
              "\n",
              "  <div id=\"df-b544311b-1620-4734-bbb9-fcc67854dd16\" class=\"colab-df-container\">\n",
              "    <div>\n",
              "<style scoped>\n",
              "    .dataframe tbody tr th:only-of-type {\n",
              "        vertical-align: middle;\n",
              "    }\n",
              "\n",
              "    .dataframe tbody tr th {\n",
              "        vertical-align: top;\n",
              "    }\n",
              "\n",
              "    .dataframe thead th {\n",
              "        text-align: right;\n",
              "    }\n",
              "</style>\n",
              "<table border=\"1\" class=\"dataframe\">\n",
              "  <thead>\n",
              "    <tr style=\"text-align: right;\">\n",
              "      <th></th>\n",
              "      <th>id</th>\n",
              "      <th>title</th>\n",
              "      <th>body</th>\n",
              "      <th>answer_count</th>\n",
              "      <th>comment_count</th>\n",
              "      <th>creation_date</th>\n",
              "      <th>last_activity_date</th>\n",
              "      <th>last_editor_display_name</th>\n",
              "      <th>owner_display_name</th>\n",
              "      <th>owner_user_id</th>\n",
              "      <th>post_type_id</th>\n",
              "      <th>score</th>\n",
              "      <th>tags</th>\n",
              "      <th>view_count</th>\n",
              "      <th>accepted_answer_id</th>\n",
              "      <th>favorite_count</th>\n",
              "      <th>last_edit_date</th>\n",
              "      <th>last_editor_user_id</th>\n",
              "      <th>community_owned_date</th>\n",
              "    </tr>\n",
              "  </thead>\n",
              "  <tbody>\n",
              "    <tr>\n",
              "      <th>0</th>\n",
              "      <td>4821394</td>\n",
              "      <td>Serializing a private struct - Can it be done?</td>\n",
              "      <td>&lt;p&gt;I have a public class that contains a priva...</td>\n",
              "      <td>1</td>\n",
              "      <td>0</td>\n",
              "      <td>2011-01-27 20:19:13.563 UTC</td>\n",
              "      <td>2011-01-27 20:21:37.59 UTC</td>\n",
              "      <td></td>\n",
              "      <td></td>\n",
              "      <td>163534.0</td>\n",
              "      <td>1</td>\n",
              "      <td>0</td>\n",
              "      <td>c#|serialization|xml-serialization</td>\n",
              "      <td>296</td>\n",
              "      <td>NaN</td>\n",
              "      <td>NaN</td>\n",
              "      <td>NaN</td>\n",
              "      <td>NaN</td>\n",
              "      <td>NaN</td>\n",
              "    </tr>\n",
              "    <tr>\n",
              "      <th>1</th>\n",
              "      <td>3367882</td>\n",
              "      <td>How do I prevent floated-right content from ov...</td>\n",
              "      <td>&lt;p&gt;I have the following HTML:&lt;/p&gt;\\n\\n&lt;pre&gt;&lt;cod...</td>\n",
              "      <td>2</td>\n",
              "      <td>2</td>\n",
              "      <td>2010-07-30 00:01:50.9 UTC</td>\n",
              "      <td>2012-05-10 14:16:05.143 UTC</td>\n",
              "      <td></td>\n",
              "      <td></td>\n",
              "      <td>1190.0</td>\n",
              "      <td>1</td>\n",
              "      <td>2</td>\n",
              "      <td>css|overflow|css-float|crop</td>\n",
              "      <td>4121</td>\n",
              "      <td>3367943.0</td>\n",
              "      <td>0.0</td>\n",
              "      <td>2012-05-10 14:16:05.143 UTC</td>\n",
              "      <td>44390.0</td>\n",
              "      <td>NaN</td>\n",
              "    </tr>\n",
              "    <tr>\n",
              "      <th>2</th>\n",
              "      <td>31682135</td>\n",
              "      <td>Gradle command line</td>\n",
              "      <td>&lt;p&gt;I'm trying to run a shell script with gradl...</td>\n",
              "      <td>0</td>\n",
              "      <td>2</td>\n",
              "      <td>2015-07-28 16:30:18.28 UTC</td>\n",
              "      <td>2015-07-28 16:32:15.117 UTC</td>\n",
              "      <td></td>\n",
              "      <td></td>\n",
              "      <td>1299158.0</td>\n",
              "      <td>1</td>\n",
              "      <td>1</td>\n",
              "      <td>bash|shell|android-studio|gradle</td>\n",
              "      <td>259</td>\n",
              "      <td>NaN</td>\n",
              "      <td>NaN</td>\n",
              "      <td>NaN</td>\n",
              "      <td>NaN</td>\n",
              "      <td>NaN</td>\n",
              "    </tr>\n",
              "  </tbody>\n",
              "</table>\n",
              "</div>\n",
              "    <div class=\"colab-df-buttons\">\n",
              "\n",
              "  <div class=\"colab-df-container\">\n",
              "    <button class=\"colab-df-convert\" onclick=\"convertToInteractive('df-b544311b-1620-4734-bbb9-fcc67854dd16')\"\n",
              "            title=\"Convert this dataframe to an interactive table.\"\n",
              "            style=\"display:none;\">\n",
              "\n",
              "  <svg xmlns=\"http://www.w3.org/2000/svg\" height=\"24px\" viewBox=\"0 -960 960 960\">\n",
              "    <path d=\"M120-120v-720h720v720H120Zm60-500h600v-160H180v160Zm220 220h160v-160H400v160Zm0 220h160v-160H400v160ZM180-400h160v-160H180v160Zm440 0h160v-160H620v160ZM180-180h160v-160H180v160Zm440 0h160v-160H620v160Z\"/>\n",
              "  </svg>\n",
              "    </button>\n",
              "\n",
              "  <style>\n",
              "    .colab-df-container {\n",
              "      display:flex;\n",
              "      gap: 12px;\n",
              "    }\n",
              "\n",
              "    .colab-df-convert {\n",
              "      background-color: #E8F0FE;\n",
              "      border: none;\n",
              "      border-radius: 50%;\n",
              "      cursor: pointer;\n",
              "      display: none;\n",
              "      fill: #1967D2;\n",
              "      height: 32px;\n",
              "      padding: 0 0 0 0;\n",
              "      width: 32px;\n",
              "    }\n",
              "\n",
              "    .colab-df-convert:hover {\n",
              "      background-color: #E2EBFA;\n",
              "      box-shadow: 0px 1px 2px rgba(60, 64, 67, 0.3), 0px 1px 3px 1px rgba(60, 64, 67, 0.15);\n",
              "      fill: #174EA6;\n",
              "    }\n",
              "\n",
              "    .colab-df-buttons div {\n",
              "      margin-bottom: 4px;\n",
              "    }\n",
              "\n",
              "    [theme=dark] .colab-df-convert {\n",
              "      background-color: #3B4455;\n",
              "      fill: #D2E3FC;\n",
              "    }\n",
              "\n",
              "    [theme=dark] .colab-df-convert:hover {\n",
              "      background-color: #434B5C;\n",
              "      box-shadow: 0px 1px 3px 1px rgba(0, 0, 0, 0.15);\n",
              "      filter: drop-shadow(0px 1px 2px rgba(0, 0, 0, 0.3));\n",
              "      fill: #FFFFFF;\n",
              "    }\n",
              "  </style>\n",
              "\n",
              "    <script>\n",
              "      const buttonEl =\n",
              "        document.querySelector('#df-b544311b-1620-4734-bbb9-fcc67854dd16 button.colab-df-convert');\n",
              "      buttonEl.style.display =\n",
              "        google.colab.kernel.accessAllowed ? 'block' : 'none';\n",
              "\n",
              "      async function convertToInteractive(key) {\n",
              "        const element = document.querySelector('#df-b544311b-1620-4734-bbb9-fcc67854dd16');\n",
              "        const dataTable =\n",
              "          await google.colab.kernel.invokeFunction('convertToInteractive',\n",
              "                                                    [key], {});\n",
              "        if (!dataTable) return;\n",
              "\n",
              "        const docLinkHtml = 'Like what you see? Visit the ' +\n",
              "          '<a target=\"_blank\" href=https://colab.research.google.com/notebooks/data_table.ipynb>data table notebook</a>'\n",
              "          + ' to learn more about interactive tables.';\n",
              "        element.innerHTML = '';\n",
              "        dataTable['output_type'] = 'display_data';\n",
              "        await google.colab.output.renderOutput(dataTable, element);\n",
              "        const docLink = document.createElement('div');\n",
              "        docLink.innerHTML = docLinkHtml;\n",
              "        element.appendChild(docLink);\n",
              "      }\n",
              "    </script>\n",
              "  </div>\n",
              "\n",
              "\n",
              "<div id=\"df-5a132bcb-e38a-46c2-94da-2e122f7021e8\">\n",
              "  <button class=\"colab-df-quickchart\" onclick=\"quickchart('df-5a132bcb-e38a-46c2-94da-2e122f7021e8')\"\n",
              "            title=\"Suggest charts\"\n",
              "            style=\"display:none;\">\n",
              "\n",
              "<svg xmlns=\"http://www.w3.org/2000/svg\" height=\"24px\"viewBox=\"0 0 24 24\"\n",
              "     width=\"24px\">\n",
              "    <g>\n",
              "        <path d=\"M19 3H5c-1.1 0-2 .9-2 2v14c0 1.1.9 2 2 2h14c1.1 0 2-.9 2-2V5c0-1.1-.9-2-2-2zM9 17H7v-7h2v7zm4 0h-2V7h2v10zm4 0h-2v-4h2v4z\"/>\n",
              "    </g>\n",
              "</svg>\n",
              "  </button>\n",
              "\n",
              "<style>\n",
              "  .colab-df-quickchart {\n",
              "      --bg-color: #E8F0FE;\n",
              "      --fill-color: #1967D2;\n",
              "      --hover-bg-color: #E2EBFA;\n",
              "      --hover-fill-color: #174EA6;\n",
              "      --disabled-fill-color: #AAA;\n",
              "      --disabled-bg-color: #DDD;\n",
              "  }\n",
              "\n",
              "  [theme=dark] .colab-df-quickchart {\n",
              "      --bg-color: #3B4455;\n",
              "      --fill-color: #D2E3FC;\n",
              "      --hover-bg-color: #434B5C;\n",
              "      --hover-fill-color: #FFFFFF;\n",
              "      --disabled-bg-color: #3B4455;\n",
              "      --disabled-fill-color: #666;\n",
              "  }\n",
              "\n",
              "  .colab-df-quickchart {\n",
              "    background-color: var(--bg-color);\n",
              "    border: none;\n",
              "    border-radius: 50%;\n",
              "    cursor: pointer;\n",
              "    display: none;\n",
              "    fill: var(--fill-color);\n",
              "    height: 32px;\n",
              "    padding: 0;\n",
              "    width: 32px;\n",
              "  }\n",
              "\n",
              "  .colab-df-quickchart:hover {\n",
              "    background-color: var(--hover-bg-color);\n",
              "    box-shadow: 0 1px 2px rgba(60, 64, 67, 0.3), 0 1px 3px 1px rgba(60, 64, 67, 0.15);\n",
              "    fill: var(--button-hover-fill-color);\n",
              "  }\n",
              "\n",
              "  .colab-df-quickchart-complete:disabled,\n",
              "  .colab-df-quickchart-complete:disabled:hover {\n",
              "    background-color: var(--disabled-bg-color);\n",
              "    fill: var(--disabled-fill-color);\n",
              "    box-shadow: none;\n",
              "  }\n",
              "\n",
              "  .colab-df-spinner {\n",
              "    border: 2px solid var(--fill-color);\n",
              "    border-color: transparent;\n",
              "    border-bottom-color: var(--fill-color);\n",
              "    animation:\n",
              "      spin 1s steps(1) infinite;\n",
              "  }\n",
              "\n",
              "  @keyframes spin {\n",
              "    0% {\n",
              "      border-color: transparent;\n",
              "      border-bottom-color: var(--fill-color);\n",
              "      border-left-color: var(--fill-color);\n",
              "    }\n",
              "    20% {\n",
              "      border-color: transparent;\n",
              "      border-left-color: var(--fill-color);\n",
              "      border-top-color: var(--fill-color);\n",
              "    }\n",
              "    30% {\n",
              "      border-color: transparent;\n",
              "      border-left-color: var(--fill-color);\n",
              "      border-top-color: var(--fill-color);\n",
              "      border-right-color: var(--fill-color);\n",
              "    }\n",
              "    40% {\n",
              "      border-color: transparent;\n",
              "      border-right-color: var(--fill-color);\n",
              "      border-top-color: var(--fill-color);\n",
              "    }\n",
              "    60% {\n",
              "      border-color: transparent;\n",
              "      border-right-color: var(--fill-color);\n",
              "    }\n",
              "    80% {\n",
              "      border-color: transparent;\n",
              "      border-right-color: var(--fill-color);\n",
              "      border-bottom-color: var(--fill-color);\n",
              "    }\n",
              "    90% {\n",
              "      border-color: transparent;\n",
              "      border-bottom-color: var(--fill-color);\n",
              "    }\n",
              "  }\n",
              "</style>\n",
              "\n",
              "  <script>\n",
              "    async function quickchart(key) {\n",
              "      const quickchartButtonEl =\n",
              "        document.querySelector('#' + key + ' button');\n",
              "      quickchartButtonEl.disabled = true;  // To prevent multiple clicks.\n",
              "      quickchartButtonEl.classList.add('colab-df-spinner');\n",
              "      try {\n",
              "        const charts = await google.colab.kernel.invokeFunction(\n",
              "            'suggestCharts', [key], {});\n",
              "      } catch (error) {\n",
              "        console.error('Error during call to suggestCharts:', error);\n",
              "      }\n",
              "      quickchartButtonEl.classList.remove('colab-df-spinner');\n",
              "      quickchartButtonEl.classList.add('colab-df-quickchart-complete');\n",
              "    }\n",
              "    (() => {\n",
              "      let quickchartButtonEl =\n",
              "        document.querySelector('#df-5a132bcb-e38a-46c2-94da-2e122f7021e8 button');\n",
              "      quickchartButtonEl.style.display =\n",
              "        google.colab.kernel.accessAllowed ? 'block' : 'none';\n",
              "    })();\n",
              "  </script>\n",
              "</div>\n",
              "\n",
              "    </div>\n",
              "  </div>\n"
            ],
            "application/vnd.google.colaboratory.intrinsic+json": {
              "type": "dataframe",
              "variable_name": "df_idf",
              "summary": "{\n  \"name\": \"df_idf\",\n  \"rows\": 20000,\n  \"fields\": [\n    {\n      \"column\": \"id\",\n      \"properties\": {\n        \"dtype\": \"number\",\n        \"std\": 13730585,\n        \"min\": 16550,\n        \"max\": 47614223,\n        \"num_unique_values\": 20000,\n        \"samples\": [\n          5606909,\n          13993430,\n          28395504\n        ],\n        \"semantic_type\": \"\",\n        \"description\": \"\"\n      }\n    },\n    {\n      \"column\": \"title\",\n      \"properties\": {\n        \"dtype\": \"string\",\n        \"num_unique_values\": 20000,\n        \"samples\": [\n          \"UITableViewCell subview (left side)\",\n          \"is there other way to source iframe value?\",\n          \"dropdown menus not working with UI-Bootstrap and bootswatch templates\"\n        ],\n        \"semantic_type\": \"\",\n        \"description\": \"\"\n      }\n    },\n    {\n      \"column\": \"body\",\n      \"properties\": {\n        \"dtype\": \"string\",\n        \"num_unique_values\": 20000,\n        \"samples\": [\n          \"<p>Is it possible to implement a subview of a UITableViewCell on the left side of the cell that crossfades when the table enters the editing mode?\\nAnother problem I face is that the bounds of the cell.textLabel are read-only. Is it possible to use some sort of inset for that label? (Because I, like mentioned above, want to use a View on the left side)</p>\\n\\n<p>Edit: How do I perform an action (in this case fade a subview) when the whole table enters editingmode? (Not through a swipe over a cell). The reason why I want to implement this is because the tableview shows the \\\"-\\\" button on the left side of the cells if it is in editingmode. (I want to show my own button on the left side of the cells if editing=NO, fade it out if editing=YES and show it again if the tableView leaves editingmode (editing=NO))</p>\\n\\n<p>A first thought directs me to something like this:</p>\\n\\n<pre><code>- (void)setEditing:(BOOL)editing animated:(BOOL)animated {\\n    [super setEditing:editing animated:animated];\\n    if(editing) {\\n        //fade out my own button\\n    } else {\\n        //show my own button\\n    }\\n}\\n</code></pre>\\n\\n<p>But I would have to loop through all the cells and I think this leads to a substantial performance worsening. What do you think?</p>\",\n          \"<p>is there other way to use iframe for showing the retrieved mysql database query result?</p>\\n\\n<p>i have these codes now but it's not working,</p>\\n\\n<pre><code>&lt;iframe id=\\\"editor\\\" style=\\\"width:500px; height:300px;\\\" value=\\\"&lt;?=$textContent?&gt;\\\"&gt;&lt;/iframe&gt;\\n</code></pre>\\n\\n<p>but when i tried it on textarea, it shows the query result.</p>\\n\\n<pre><code>&lt;textarea value=\\\"&lt;?=$textContent?&gt;\\\"&gt; &lt;/textarea&gt;\\n</code></pre>\\n\\n<p>here's my database query if it would be helpful,</p>\\n\\n<pre><code>&lt;?php \\n// Connect to server and select database.\\n\\n$query=\\\"SELECT * FROM text_tb WHERE textID ='\\\".$textID.\\\"'\\\"; \\n$result=mysql_query($query);\\nwhile($row=mysql_fetch_array($result)) { \\n    $textID = $row['textID'];\\n    $textContent = $row['textContent'];\\n    } \\n?&gt; \\n</code></pre>\\n\\n<p>thank you for the help.</p>\",\n          \"<p>Hello I trying to setup an angular app using UI-Bootstrap and a bootswatch template. The bootswatch template is being applied across the site however when I try to setup drop down menus, accordions, or the nav collapse nothing seems to work. The nav collapse works with the nav as far as collapsing the buttons but clicking on the button does nothing, no dropdown etc. I'm not getting any errors in Chrome dev tools and I can see that all requested scripts and CSS are loaded in the page. While this is a SPA I am wrapping it in a MVC 4 site.  Here is the html I have so far for the base cshtml template. </p>\\n\\n<pre><code>&lt;!DOCTYPE html&gt;\\n&lt;html lang=\\\"en\\\"&gt;\\n&lt;head&gt;\\n    &lt;meta charset=\\\"utf-8\\\" /&gt;\\n    &lt;meta name=\\\"viewport\\\" content=\\\"width=device-width, initial-scale=1, user-scalable=no\\\" /&gt;\\n    &lt;title&gt;@ViewBag.Title&lt;/title&gt;\\n\\n    &lt;!--Remove for bundles on publish--&gt;\\n    &lt;link href=\\\"~/Content/bootstrap.min.css\\\" rel=\\\"stylesheet\\\" /&gt;\\n    @if (IsSectionDefined(\\\"AdditionalHeadContent\\\"))\\n    {\\n        @RenderSection(\\\"AdditionalHeadContent\\\", required: false)\\n    }\\n    &lt;style type=\\\"text/css\\\"&gt;\\n        .bs-spacer{margin:40px;}\\n    &lt;/style&gt;\\n    @Scripts.Render(\\\"~/bundles/modernizr\\\")\\n&lt;/head&gt;\\n&lt;body&gt;\\n    &lt;div class=\\\"bs-spacer\\\"&gt;  \\n            &lt;nav role=\\\"navigation\\\" class=\\\"navbar navbar-default\\\"&gt;\\n                &lt;!-- Brand and toggle get grouped for better mobile display --&gt;\\n                &lt;div class=\\\"navbar-header\\\"&gt;\\n                    &lt;button type=\\\"button\\\" data-target=\\\"#navbarCollapse\\\" data-toggle=\\\"collapse\\\" class=\\\"navbar-toggle\\\"&gt;\\n                        &lt;span class=\\\"sr-only\\\"&gt;Toggle navigation&lt;/span&gt;\\n                        &lt;span class=\\\"icon-bar\\\"&gt;&lt;/span&gt;\\n                        &lt;span class=\\\"icon-bar\\\"&gt;&lt;/span&gt;\\n                        &lt;span class=\\\"icon-bar\\\"&gt;&lt;/span&gt;\\n                    &lt;/button&gt;\\n                    &lt;a href=\\\"#\\\" class=\\\"navbar-brand\\\"&gt;Brand&lt;/a&gt;\\n\\n                &lt;/div&gt;\\n                &lt;!-- Collection of nav links and other content for toggling --&gt;\\n                &lt;div id=\\\"navbarCollapse\\\" class=\\\"collapse navbar-collapse\\\"&gt;\\n                    &lt;ul class=\\\"nav navbar-nav\\\"&gt;\\n                        &lt;li class=\\\"active\\\"&gt;&lt;a href=\\\"#\\\"&gt;Home&lt;/a&gt;&lt;/li&gt;\\n                        &lt;li&gt;&lt;a href=\\\"#\\\"&gt;Link 1&lt;/a&gt;&lt;/li&gt;\\n                        &lt;li&gt;&lt;a href=\\\"#\\\"&gt;Link 2&lt;/a&gt;&lt;/li&gt;\\n                    &lt;/ul&gt;\\n                    &lt;ul class=\\\"nav navbar-nav\\\"&gt;\\n                        &lt;li class=\\\"dropdown\\\"&gt;\\n                            &lt;a id=\\\"itemActionMenu\\\" role=\\\"presentation\\\" class=\\\"dropdown-toggle\\\" data-toggle=\\\"dropdown\\\" aria-expanded=\\\"false\\\"&gt;Dropdown &lt;span class=\\\"caret\\\"&gt;&lt;/span&gt;&lt;/a&gt;\\n                            &lt;ul class=\\\"dropdown-menu\\\" role=\\\"menu\\\" aria-labelledby=\\\"itemActionMenu\\\"&gt;\\n                                &lt;li role=\\\"presentation\\\"&gt;&lt;a role=\\\"menuitem\\\" tabindex=\\\"-1\\\"&gt;Action 1&lt;/a&gt;&lt;/li&gt;\\n                                &lt;li role=\\\"presentation\\\"&gt;&lt;a role=\\\"menuitem\\\" tabindex=\\\"-1\\\"&gt;Action 2&lt;/a&gt;&lt;/li&gt;\\n                            &lt;/ul&gt;\\n                        &lt;/li&gt;\\n                    &lt;/ul&gt;\\n                    &lt;ul class=\\\"nav navbar-nav navbar-right\\\"&gt;\\n                        &lt;li&gt;&lt;a href=\\\"#\\\"&gt;Login&lt;/a&gt;&lt;/li&gt;\\n                    &lt;/ul&gt;\\n                &lt;/div&gt;\\n            &lt;/nav&gt;\\n            @RenderBody()\\n\\n    &lt;/div&gt;\\n    &lt;!--Remove for bundles on publish--&gt;\\n\\n    @Scripts.Render(\\\"~/Scripts/angular.min.js\\\")\\n    @Scripts.Render(\\\"~/Scripts/angular-ui/ui-bootstrap-tpls.min.js\\\")\\n    @Scripts.Render(\\\"~/Scripts/angular-animate.min.js\\\")\\n    @RenderSection(\\\"scripts\\\", required: false)\\n&lt;/body&gt;\\n&lt;/html&gt;\\n</code></pre>\\n\\n<p>Any suggestions on what I might be missing? Since I'm using UI-Bootstrap jquery is not needed so I don't have it in the list. (I did test it and add it but same result). </p>\\n\\n<p>Thanks in advance</p>\"\n        ],\n        \"semantic_type\": \"\",\n        \"description\": \"\"\n      }\n    },\n    {\n      \"column\": \"answer_count\",\n      \"properties\": {\n        \"dtype\": \"number\",\n        \"std\": 1,\n        \"min\": 0,\n        \"max\": 100,\n        \"num_unique_values\": 23,\n        \"samples\": [\n          10,\n          12,\n          1\n        ],\n        \"semantic_type\": \"\",\n        \"description\": \"\"\n      }\n    },\n    {\n      \"column\": \"comment_count\",\n      \"properties\": {\n        \"dtype\": \"number\",\n        \"std\": 2,\n        \"min\": 0,\n        \"max\": 51,\n        \"num_unique_values\": 29,\n        \"samples\": [\n          25,\n          12,\n          8\n        ],\n        \"semantic_type\": \"\",\n        \"description\": \"\"\n      }\n    },\n    {\n      \"column\": \"creation_date\",\n      \"properties\": {\n        \"dtype\": \"string\",\n        \"num_unique_values\": 20000,\n        \"samples\": [\n          \"2011-04-09 18:16:34.81 UTC\",\n          \"2012-12-21 16:09:19.503 UTC\",\n          \"2015-02-08 15:09:19.173 UTC\"\n        ],\n        \"semantic_type\": \"\",\n        \"description\": \"\"\n      }\n    },\n    {\n      \"column\": \"last_activity_date\",\n      \"properties\": {\n        \"dtype\": \"string\",\n        \"num_unique_values\": 20000,\n        \"samples\": [\n          \"2011-04-11 16:29:35.567 UTC\",\n          \"2012-12-21 16:51:40.577 UTC\",\n          \"2016-01-29 17:23:54.747 UTC\"\n        ],\n        \"semantic_type\": \"\",\n        \"description\": \"\"\n      }\n    },\n    {\n      \"column\": \"last_editor_display_name\",\n      \"properties\": {\n        \"dtype\": \"category\",\n        \"num_unique_values\": 178,\n        \"samples\": [\n          \"user166390\",\n          \"user2563044\",\n          \"user133408\"\n        ],\n        \"semantic_type\": \"\",\n        \"description\": \"\"\n      }\n    },\n    {\n      \"column\": \"owner_display_name\",\n      \"properties\": {\n        \"dtype\": \"category\",\n        \"num_unique_values\": 384,\n        \"samples\": [\n          \"Morgan Cheng\",\n          \"Nick Crowther\",\n          \"user8013429\"\n        ],\n        \"semantic_type\": \"\",\n        \"description\": \"\"\n      }\n    },\n    {\n      \"column\": \"owner_user_id\",\n      \"properties\": {\n        \"dtype\": \"number\",\n        \"std\": 2281598.209473621,\n        \"min\": 29.0,\n        \"max\": 9044383.0,\n        \"num_unique_values\": 19096,\n        \"samples\": [\n          193655.0,\n          2178259.0,\n          659538.0\n        ],\n        \"semantic_type\": \"\",\n        \"description\": \"\"\n      }\n    },\n    {\n      \"column\": \"post_type_id\",\n      \"properties\": {\n        \"dtype\": \"number\",\n        \"std\": 0,\n        \"min\": 1,\n        \"max\": 1,\n        \"num_unique_values\": 1,\n        \"samples\": [\n          1\n        ],\n        \"semantic_type\": \"\",\n        \"description\": \"\"\n      }\n    },\n    {\n      \"column\": \"score\",\n      \"properties\": {\n        \"dtype\": \"number\",\n        \"std\": 16,\n        \"min\": -19,\n        \"max\": 1640,\n        \"num_unique_values\": 122,\n        \"samples\": [\n          8\n        ],\n        \"semantic_type\": \"\",\n        \"description\": \"\"\n      }\n    },\n    {\n      \"column\": \"tags\",\n      \"properties\": {\n        \"dtype\": \"string\",\n        \"num_unique_values\": 15936,\n        \"samples\": [\n          \"c#|icons|file-format\"\n        ],\n        \"semantic_type\": \"\",\n        \"description\": \"\"\n      }\n    },\n    {\n      \"column\": \"view_count\",\n      \"properties\": {\n        \"dtype\": \"number\",\n        \"std\": 13314,\n        \"min\": 3,\n        \"max\": 928311,\n        \"num_unique_values\": 4121,\n        \"samples\": [\n          2282\n        ],\n        \"semantic_type\": \"\",\n        \"description\": \"\"\n      }\n    },\n    {\n      \"column\": \"accepted_answer_id\",\n      \"properties\": {\n        \"dtype\": \"number\",\n        \"std\": 13686330.120386017,\n        \"min\": 16564.0,\n        \"max\": 47612869.0,\n        \"num_unique_values\": 10711,\n        \"samples\": [\n          6291157.0\n        ],\n        \"semantic_type\": \"\",\n        \"description\": \"\"\n      }\n    },\n    {\n      \"column\": \"favorite_count\",\n      \"properties\": {\n        \"dtype\": \"number\",\n        \"std\": 12.316505703842381,\n        \"min\": 0.0,\n        \"max\": 460.0,\n        \"num_unique_values\": 71,\n        \"samples\": [\n          23.0\n        ],\n        \"semantic_type\": \"\",\n        \"description\": \"\"\n      }\n    },\n    {\n      \"column\": \"last_edit_date\",\n      \"properties\": {\n        \"dtype\": \"string\",\n        \"num_unique_values\": 10662,\n        \"samples\": [\n          \"2015-11-13 09:12:15.513 UTC\"\n        ],\n        \"semantic_type\": \"\",\n        \"description\": \"\"\n      }\n    },\n    {\n      \"column\": \"last_editor_user_id\",\n      \"properties\": {\n        \"dtype\": \"number\",\n        \"std\": 2062799.5879244136,\n        \"min\": -1.0,\n        \"max\": 9017142.0,\n        \"num_unique_values\": 7912,\n        \"samples\": [\n          2750476.0\n        ],\n        \"semantic_type\": \"\",\n        \"description\": \"\"\n      }\n    },\n    {\n      \"column\": \"community_owned_date\",\n      \"properties\": {\n        \"dtype\": \"date\",\n        \"min\": \"2008-09-15 20:16:35.410000+00:00\",\n        \"max\": \"2013-08-03 07:27:36.317000+00:00\",\n        \"num_unique_values\": 15,\n        \"samples\": [\n          \"2010-09-19 07:25:31.787 UTC\"\n        ],\n        \"semantic_type\": \"\",\n        \"description\": \"\"\n      }\n    }\n  ]\n}"
            }
          },
          "metadata": {},
          "execution_count": 95
        }
      ]
    },
    {
      "cell_type": "code",
      "source": [
        "import re\n",
        "def pre_process(text):\n",
        "\n",
        "    # lowercase\n",
        "    text=text.lower()\n",
        "\n",
        "    #remove tags\n",
        "    text=re.sub(\"</?.*?>\",\" <> \",text) #e.g. replace </p> with <>\n",
        "\n",
        "    # remove all special characters and digits\n",
        "    text=re.sub(\"(\\\\d|\\\\W)+\",\" \",text)\n",
        "\n",
        "    return text\n",
        "\n",
        "df_idf['text'] = df_idf['title'] + df_idf['body'] #generate a new column 'text' combining both 'title' and 'body'\n",
        "df_idf['text'] = df_idf['text'].apply(lambda x:pre_process(x))"
      ],
      "metadata": {
        "id": "N93Zb21c0Klk"
      },
      "execution_count": null,
      "outputs": []
    },
    {
      "cell_type": "code",
      "source": [
        "#show its original 'body' content\n",
        "df_idf['title'][2] + df_idf['body'][2]"
      ],
      "metadata": {
        "colab": {
          "base_uri": "https://localhost:8080/",
          "height": 122
        },
        "id": "Cc5M9GGB0VWk",
        "outputId": "0eb4ead9-4f97-4e11-c3b6-b08eb2d057e5"
      },
      "execution_count": null,
      "outputs": [
        {
          "output_type": "execute_result",
          "data": {
            "text/plain": [
              "'Gradle command line<p>I\\'m trying to run a shell script with gradle. I currently have something like this</p>\\n\\n<pre><code>def test = project.tasks.create(\"test\", Exec) {\\n    commandLine \\'bash\\', \\'-c\\', \\'bash C:/my file dir/script.sh\\'\\n}\\n</code></pre>\\n\\n<p>The problem is that I cannot run this script because i have spaces in my dir name. I have tried everything e.g: </p>\\n\\n<pre><code>commandLine \\'bash\\', \\'-c\\', \\'bash C:/my file dir/script.sh\\'.tokenize() \\ncommandLine \\'bash\\', \\'-c\\', [\\'bash\\', \\'C:/my file dir/script.sh\\']\\ncommandLine \\'bash\\', \\'-c\\', new StringBuilder().append(\\'bash\\').append(\\'C:/my file dir/script.sh\\')\\ncommandLine \\'bash\\', \\'-c\\', \\'bash \"C:/my file dir/script.sh\"\\'\\nFile dir = file(\\'C:/my file dir/script.sh\\')\\ncommandLine \\'bash\\', \\'-c\\', \\'bash \\' + dir.getAbsolutePath();\\n</code></pre>\\n\\n<p>Im using windows7 64bit and if I use a path without spaces the script runs perfectly, therefore the only issue as I can see is how gradle handles spaces.</p>'"
            ],
            "application/vnd.google.colaboratory.intrinsic+json": {
              "type": "string"
            }
          },
          "metadata": {},
          "execution_count": 25
        }
      ]
    },
    {
      "cell_type": "code",
      "source": [
        "#show a sample of cleaned 'text' column\n",
        "df_idf['text'][2]"
      ],
      "metadata": {
        "colab": {
          "base_uri": "https://localhost:8080/",
          "height": 87
        },
        "id": "fD87oxzd0ZUM",
        "outputId": "24c30aec-25e2-4307-a71b-5187fa6107c3"
      },
      "execution_count": null,
      "outputs": [
        {
          "output_type": "execute_result",
          "data": {
            "text/plain": [
              "'gradle command line i m trying to run a shell script with gradle i currently have something like this def test project tasks create test exec commandline bash c bash c my file dir script sh the problem is that i cannot run this script because i have spaces in my dir name i have tried everything e g commandline bash c bash c my file dir script sh tokenize commandline bash c bash c my file dir script sh commandline bash c new stringbuilder append bash append c my file dir script sh commandline bash c bash c my file dir script sh file dir file c my file dir script sh commandline bash c bash dir getabsolutepath im using windows bit and if i use a path without spaces the script runs perfectly therefore the only issue as i can see is how gradle handles spaces '"
            ],
            "application/vnd.google.colaboratory.intrinsic+json": {
              "type": "string"
            }
          },
          "metadata": {},
          "execution_count": 24
        }
      ]
    },
    {
      "cell_type": "code",
      "source": [
        "from sklearn.feature_extraction.text import CountVectorizer\n",
        "import re\n",
        "\n",
        "def get_stop_words(stop_file_path):\n",
        "    \"\"\"load stop words \"\"\"\n",
        "\n",
        "    with open(stop_file_path, 'r', encoding=\"utf-8\") as f:\n",
        "        stopwords = f.readlines()\n",
        "        stop_set = set(m.strip() for m in stopwords)\n",
        "        return frozenset(stop_set)\n",
        "\n",
        "\n",
        "stopwords=get_stop_words(\"/content/stopwords.txt\")\n",
        "\n",
        "docs=df_idf['text'].tolist()\n",
        "print(f'Note: docs contains a list of text strings for model training with {len(docs)} samples!')\n",
        "\n",
        "\n",
        "cv=CountVectorizer(max_df=0.85,stop_words=list(stopwords))\n",
        "word_count_vector=cv.fit_transform(docs)"
      ],
      "metadata": {
        "colab": {
          "base_uri": "https://localhost:8080/"
        },
        "id": "X0a0I0pH1DyM",
        "outputId": "1c45c955-0556-420f-a1a9-4c133d66e832"
      },
      "execution_count": null,
      "outputs": [
        {
          "output_type": "stream",
          "name": "stdout",
          "text": [
            "Note: docs contains a list of text strings for model training with 20000 samples!\n"
          ]
        },
        {
          "output_type": "stream",
          "name": "stderr",
          "text": [
            "/usr/local/lib/python3.11/dist-packages/sklearn/feature_extraction/text.py:402: UserWarning: Your stop_words may be inconsistent with your preprocessing. Tokenizing the stop words generated tokens ['come', 'vis', 'viser', 'visest'] not in stop_words.\n",
            "  warnings.warn(\n"
          ]
        }
      ]
    },
    {
      "cell_type": "code",
      "source": [
        "print('stopwords numbers: ', len(stopwords))\n",
        "print(f'word count vector shape:{word_count_vector.shape}')"
      ],
      "metadata": {
        "colab": {
          "base_uri": "https://localhost:8080/"
        },
        "id": "v3Y3lfxK3Oqz",
        "outputId": "f53d0b68-5b64-4b0a-9026-94df46695dfa"
      },
      "execution_count": null,
      "outputs": [
        {
          "output_type": "stream",
          "name": "stdout",
          "text": [
            "stopwords numbers:  752\n",
            "word count vector shape:(20000, 124901)\n"
          ]
        }
      ]
    },
    {
      "cell_type": "code",
      "source": [
        "cv=CountVectorizer(max_df=0.85,stop_words=list(stopwords),max_features=10000)\n",
        "word_count_vector=cv.fit_transform(docs)\n",
        "word_count_vector.shape"
      ],
      "metadata": {
        "colab": {
          "base_uri": "https://localhost:8080/"
        },
        "id": "p5Af2oBC3Q_b",
        "outputId": "de75e1d6-291b-481b-e51c-39c23f58b8d8"
      },
      "execution_count": null,
      "outputs": [
        {
          "output_type": "execute_result",
          "data": {
            "text/plain": [
              "(20000, 10000)"
            ]
          },
          "metadata": {},
          "execution_count": 28
        }
      ]
    },
    {
      "cell_type": "code",
      "source": [
        "print(type(word_count_vector))\n",
        "print(word_count_vector[0,:]) #a sparse matrix representation"
      ],
      "metadata": {
        "colab": {
          "base_uri": "https://localhost:8080/"
        },
        "id": "VcShCwRM33va",
        "outputId": "81a25c0a-e808-4306-9b87-b8e7313fb6ad"
      },
      "execution_count": null,
      "outputs": [
        {
          "output_type": "stream",
          "name": "stdout",
          "text": [
            "<class 'scipy.sparse._csr.csr_matrix'>\n",
            "<Compressed Sparse Row sparse matrix of dtype 'int64'\n",
            "\twith 23 stored elements and shape (1, 10000)>\n",
            "  Coords\tValues\n",
            "  (0, 7850)\t1\n",
            "  (0, 6753)\t3\n",
            "  (0, 8520)\t5\n",
            "  (0, 6881)\t3\n",
            "  (0, 1353)\t1\n",
            "  (0, 1726)\t2\n",
            "  (0, 6839)\t1\n",
            "  (0, 8498)\t1\n",
            "  (0, 7846)\t3\n",
            "  (0, 626)\t1\n",
            "  (0, 8486)\t1\n",
            "  (0, 2404)\t1\n",
            "  (0, 9428)\t1\n",
            "  (0, 9906)\t1\n",
            "  (0, 2826)\t1\n",
            "  (0, 7647)\t1\n",
            "  (0, 6053)\t1\n",
            "  (0, 9211)\t1\n",
            "  (0, 7847)\t1\n",
            "  (0, 2491)\t2\n",
            "  (0, 5730)\t1\n",
            "  (0, 9647)\t1\n",
            "  (0, 4691)\t1\n"
          ]
        }
      ]
    },
    {
      "cell_type": "code",
      "source": [
        "feature_names = cv.get_feature_names_out()\n",
        "\n",
        "# Get non-zero entries as (column index, count)\n",
        "nonzero = word_count_vector[0].nonzero()[1]\n",
        "counts = word_count_vector[0].data\n",
        "\n",
        "# Map indices to words\n",
        "for index, count in zip(nonzero, counts):\n",
        "    print(f\"Word: {feature_names[index]} - Count: {count}\")\n"
      ],
      "metadata": {
        "colab": {
          "base_uri": "https://localhost:8080/"
        },
        "id": "Igi3p88q4jyA",
        "outputId": "702e244c-dcc6-4ac3-ae8d-ce5373fb4f34"
      },
      "execution_count": null,
      "outputs": [
        {
          "output_type": "stream",
          "name": "stdout",
          "text": [
            "Word: serializing - Count: 1\n",
            "Word: private - Count: 3\n",
            "Word: struct - Count: 5\n",
            "Word: public - Count: 3\n",
            "Word: class - Count: 1\n",
            "Word: contains - Count: 2\n",
            "Word: properties - Count: 1\n",
            "Word: string - Count: 1\n",
            "Word: serialize - Count: 3\n",
            "Word: attempt - Count: 1\n",
            "Word: stream - Count: 1\n",
            "Word: disk - Count: 1\n",
            "Word: using - Count: 1\n",
            "Word: xmlserializer - Count: 1\n",
            "Word: error - Count: 1\n",
            "Word: saying - Count: 1\n",
            "Word: only - Count: 1\n",
            "Word: types - Count: 1\n",
            "Word: serialized - Count: 1\n",
            "Word: don - Count: 2\n",
            "Word: need - Count: 1\n",
            "Word: way - Count: 1\n",
            "Word: keep - Count: 1\n"
          ]
        }
      ]
    },
    {
      "cell_type": "code",
      "source": [
        "list(cv.vocabulary_.keys())[:10]"
      ],
      "metadata": {
        "colab": {
          "base_uri": "https://localhost:8080/"
        },
        "id": "lW1zCF5J5FeY",
        "outputId": "69cecd90-0a6f-406e-dc19-389dafd52df8"
      },
      "execution_count": null,
      "outputs": [
        {
          "output_type": "execute_result",
          "data": {
            "text/plain": [
              "['serializing',\n",
              " 'private',\n",
              " 'struct',\n",
              " 'public',\n",
              " 'class',\n",
              " 'contains',\n",
              " 'properties',\n",
              " 'string',\n",
              " 'serialize',\n",
              " 'attempt']"
            ]
          },
          "metadata": {},
          "execution_count": 31
        }
      ]
    },
    {
      "cell_type": "code",
      "source": [
        "print(len(cv.vocabulary_), len(cv.get_feature_names_out()))"
      ],
      "metadata": {
        "colab": {
          "base_uri": "https://localhost:8080/"
        },
        "id": "CvdjKE-p6M2Y",
        "outputId": "065b3020-de57-40de-87b8-a32530dfc5d9"
      },
      "execution_count": null,
      "outputs": [
        {
          "output_type": "stream",
          "name": "stdout",
          "text": [
            "10000 10000\n"
          ]
        }
      ]
    },
    {
      "cell_type": "code",
      "source": [
        "from sklearn.feature_extraction.text import TfidfTransformer\n",
        "\n",
        "tfidf_transformer=TfidfTransformer(smooth_idf=True,use_idf=True)\n",
        "tfidf_transformer.fit(word_count_vector)"
      ],
      "metadata": {
        "colab": {
          "base_uri": "https://localhost:8080/",
          "height": 80
        },
        "id": "GQ-R_-Kc6gff",
        "outputId": "de6f48e9-2d07-4e3d-ad2e-416553b633da"
      },
      "execution_count": null,
      "outputs": [
        {
          "output_type": "execute_result",
          "data": {
            "text/plain": [
              "TfidfTransformer()"
            ],
            "text/html": [
              "<style>#sk-container-id-1 {\n",
              "  /* Definition of color scheme common for light and dark mode */\n",
              "  --sklearn-color-text: #000;\n",
              "  --sklearn-color-text-muted: #666;\n",
              "  --sklearn-color-line: gray;\n",
              "  /* Definition of color scheme for unfitted estimators */\n",
              "  --sklearn-color-unfitted-level-0: #fff5e6;\n",
              "  --sklearn-color-unfitted-level-1: #f6e4d2;\n",
              "  --sklearn-color-unfitted-level-2: #ffe0b3;\n",
              "  --sklearn-color-unfitted-level-3: chocolate;\n",
              "  /* Definition of color scheme for fitted estimators */\n",
              "  --sklearn-color-fitted-level-0: #f0f8ff;\n",
              "  --sklearn-color-fitted-level-1: #d4ebff;\n",
              "  --sklearn-color-fitted-level-2: #b3dbfd;\n",
              "  --sklearn-color-fitted-level-3: cornflowerblue;\n",
              "\n",
              "  /* Specific color for light theme */\n",
              "  --sklearn-color-text-on-default-background: var(--sg-text-color, var(--theme-code-foreground, var(--jp-content-font-color1, black)));\n",
              "  --sklearn-color-background: var(--sg-background-color, var(--theme-background, var(--jp-layout-color0, white)));\n",
              "  --sklearn-color-border-box: var(--sg-text-color, var(--theme-code-foreground, var(--jp-content-font-color1, black)));\n",
              "  --sklearn-color-icon: #696969;\n",
              "\n",
              "  @media (prefers-color-scheme: dark) {\n",
              "    /* Redefinition of color scheme for dark theme */\n",
              "    --sklearn-color-text-on-default-background: var(--sg-text-color, var(--theme-code-foreground, var(--jp-content-font-color1, white)));\n",
              "    --sklearn-color-background: var(--sg-background-color, var(--theme-background, var(--jp-layout-color0, #111)));\n",
              "    --sklearn-color-border-box: var(--sg-text-color, var(--theme-code-foreground, var(--jp-content-font-color1, white)));\n",
              "    --sklearn-color-icon: #878787;\n",
              "  }\n",
              "}\n",
              "\n",
              "#sk-container-id-1 {\n",
              "  color: var(--sklearn-color-text);\n",
              "}\n",
              "\n",
              "#sk-container-id-1 pre {\n",
              "  padding: 0;\n",
              "}\n",
              "\n",
              "#sk-container-id-1 input.sk-hidden--visually {\n",
              "  border: 0;\n",
              "  clip: rect(1px 1px 1px 1px);\n",
              "  clip: rect(1px, 1px, 1px, 1px);\n",
              "  height: 1px;\n",
              "  margin: -1px;\n",
              "  overflow: hidden;\n",
              "  padding: 0;\n",
              "  position: absolute;\n",
              "  width: 1px;\n",
              "}\n",
              "\n",
              "#sk-container-id-1 div.sk-dashed-wrapped {\n",
              "  border: 1px dashed var(--sklearn-color-line);\n",
              "  margin: 0 0.4em 0.5em 0.4em;\n",
              "  box-sizing: border-box;\n",
              "  padding-bottom: 0.4em;\n",
              "  background-color: var(--sklearn-color-background);\n",
              "}\n",
              "\n",
              "#sk-container-id-1 div.sk-container {\n",
              "  /* jupyter's `normalize.less` sets `[hidden] { display: none; }`\n",
              "     but bootstrap.min.css set `[hidden] { display: none !important; }`\n",
              "     so we also need the `!important` here to be able to override the\n",
              "     default hidden behavior on the sphinx rendered scikit-learn.org.\n",
              "     See: https://github.com/scikit-learn/scikit-learn/issues/21755 */\n",
              "  display: inline-block !important;\n",
              "  position: relative;\n",
              "}\n",
              "\n",
              "#sk-container-id-1 div.sk-text-repr-fallback {\n",
              "  display: none;\n",
              "}\n",
              "\n",
              "div.sk-parallel-item,\n",
              "div.sk-serial,\n",
              "div.sk-item {\n",
              "  /* draw centered vertical line to link estimators */\n",
              "  background-image: linear-gradient(var(--sklearn-color-text-on-default-background), var(--sklearn-color-text-on-default-background));\n",
              "  background-size: 2px 100%;\n",
              "  background-repeat: no-repeat;\n",
              "  background-position: center center;\n",
              "}\n",
              "\n",
              "/* Parallel-specific style estimator block */\n",
              "\n",
              "#sk-container-id-1 div.sk-parallel-item::after {\n",
              "  content: \"\";\n",
              "  width: 100%;\n",
              "  border-bottom: 2px solid var(--sklearn-color-text-on-default-background);\n",
              "  flex-grow: 1;\n",
              "}\n",
              "\n",
              "#sk-container-id-1 div.sk-parallel {\n",
              "  display: flex;\n",
              "  align-items: stretch;\n",
              "  justify-content: center;\n",
              "  background-color: var(--sklearn-color-background);\n",
              "  position: relative;\n",
              "}\n",
              "\n",
              "#sk-container-id-1 div.sk-parallel-item {\n",
              "  display: flex;\n",
              "  flex-direction: column;\n",
              "}\n",
              "\n",
              "#sk-container-id-1 div.sk-parallel-item:first-child::after {\n",
              "  align-self: flex-end;\n",
              "  width: 50%;\n",
              "}\n",
              "\n",
              "#sk-container-id-1 div.sk-parallel-item:last-child::after {\n",
              "  align-self: flex-start;\n",
              "  width: 50%;\n",
              "}\n",
              "\n",
              "#sk-container-id-1 div.sk-parallel-item:only-child::after {\n",
              "  width: 0;\n",
              "}\n",
              "\n",
              "/* Serial-specific style estimator block */\n",
              "\n",
              "#sk-container-id-1 div.sk-serial {\n",
              "  display: flex;\n",
              "  flex-direction: column;\n",
              "  align-items: center;\n",
              "  background-color: var(--sklearn-color-background);\n",
              "  padding-right: 1em;\n",
              "  padding-left: 1em;\n",
              "}\n",
              "\n",
              "\n",
              "/* Toggleable style: style used for estimator/Pipeline/ColumnTransformer box that is\n",
              "clickable and can be expanded/collapsed.\n",
              "- Pipeline and ColumnTransformer use this feature and define the default style\n",
              "- Estimators will overwrite some part of the style using the `sk-estimator` class\n",
              "*/\n",
              "\n",
              "/* Pipeline and ColumnTransformer style (default) */\n",
              "\n",
              "#sk-container-id-1 div.sk-toggleable {\n",
              "  /* Default theme specific background. It is overwritten whether we have a\n",
              "  specific estimator or a Pipeline/ColumnTransformer */\n",
              "  background-color: var(--sklearn-color-background);\n",
              "}\n",
              "\n",
              "/* Toggleable label */\n",
              "#sk-container-id-1 label.sk-toggleable__label {\n",
              "  cursor: pointer;\n",
              "  display: flex;\n",
              "  width: 100%;\n",
              "  margin-bottom: 0;\n",
              "  padding: 0.5em;\n",
              "  box-sizing: border-box;\n",
              "  text-align: center;\n",
              "  align-items: start;\n",
              "  justify-content: space-between;\n",
              "  gap: 0.5em;\n",
              "}\n",
              "\n",
              "#sk-container-id-1 label.sk-toggleable__label .caption {\n",
              "  font-size: 0.6rem;\n",
              "  font-weight: lighter;\n",
              "  color: var(--sklearn-color-text-muted);\n",
              "}\n",
              "\n",
              "#sk-container-id-1 label.sk-toggleable__label-arrow:before {\n",
              "  /* Arrow on the left of the label */\n",
              "  content: \"▸\";\n",
              "  float: left;\n",
              "  margin-right: 0.25em;\n",
              "  color: var(--sklearn-color-icon);\n",
              "}\n",
              "\n",
              "#sk-container-id-1 label.sk-toggleable__label-arrow:hover:before {\n",
              "  color: var(--sklearn-color-text);\n",
              "}\n",
              "\n",
              "/* Toggleable content - dropdown */\n",
              "\n",
              "#sk-container-id-1 div.sk-toggleable__content {\n",
              "  max-height: 0;\n",
              "  max-width: 0;\n",
              "  overflow: hidden;\n",
              "  text-align: left;\n",
              "  /* unfitted */\n",
              "  background-color: var(--sklearn-color-unfitted-level-0);\n",
              "}\n",
              "\n",
              "#sk-container-id-1 div.sk-toggleable__content.fitted {\n",
              "  /* fitted */\n",
              "  background-color: var(--sklearn-color-fitted-level-0);\n",
              "}\n",
              "\n",
              "#sk-container-id-1 div.sk-toggleable__content pre {\n",
              "  margin: 0.2em;\n",
              "  border-radius: 0.25em;\n",
              "  color: var(--sklearn-color-text);\n",
              "  /* unfitted */\n",
              "  background-color: var(--sklearn-color-unfitted-level-0);\n",
              "}\n",
              "\n",
              "#sk-container-id-1 div.sk-toggleable__content.fitted pre {\n",
              "  /* unfitted */\n",
              "  background-color: var(--sklearn-color-fitted-level-0);\n",
              "}\n",
              "\n",
              "#sk-container-id-1 input.sk-toggleable__control:checked~div.sk-toggleable__content {\n",
              "  /* Expand drop-down */\n",
              "  max-height: 200px;\n",
              "  max-width: 100%;\n",
              "  overflow: auto;\n",
              "}\n",
              "\n",
              "#sk-container-id-1 input.sk-toggleable__control:checked~label.sk-toggleable__label-arrow:before {\n",
              "  content: \"▾\";\n",
              "}\n",
              "\n",
              "/* Pipeline/ColumnTransformer-specific style */\n",
              "\n",
              "#sk-container-id-1 div.sk-label input.sk-toggleable__control:checked~label.sk-toggleable__label {\n",
              "  color: var(--sklearn-color-text);\n",
              "  background-color: var(--sklearn-color-unfitted-level-2);\n",
              "}\n",
              "\n",
              "#sk-container-id-1 div.sk-label.fitted input.sk-toggleable__control:checked~label.sk-toggleable__label {\n",
              "  background-color: var(--sklearn-color-fitted-level-2);\n",
              "}\n",
              "\n",
              "/* Estimator-specific style */\n",
              "\n",
              "/* Colorize estimator box */\n",
              "#sk-container-id-1 div.sk-estimator input.sk-toggleable__control:checked~label.sk-toggleable__label {\n",
              "  /* unfitted */\n",
              "  background-color: var(--sklearn-color-unfitted-level-2);\n",
              "}\n",
              "\n",
              "#sk-container-id-1 div.sk-estimator.fitted input.sk-toggleable__control:checked~label.sk-toggleable__label {\n",
              "  /* fitted */\n",
              "  background-color: var(--sklearn-color-fitted-level-2);\n",
              "}\n",
              "\n",
              "#sk-container-id-1 div.sk-label label.sk-toggleable__label,\n",
              "#sk-container-id-1 div.sk-label label {\n",
              "  /* The background is the default theme color */\n",
              "  color: var(--sklearn-color-text-on-default-background);\n",
              "}\n",
              "\n",
              "/* On hover, darken the color of the background */\n",
              "#sk-container-id-1 div.sk-label:hover label.sk-toggleable__label {\n",
              "  color: var(--sklearn-color-text);\n",
              "  background-color: var(--sklearn-color-unfitted-level-2);\n",
              "}\n",
              "\n",
              "/* Label box, darken color on hover, fitted */\n",
              "#sk-container-id-1 div.sk-label.fitted:hover label.sk-toggleable__label.fitted {\n",
              "  color: var(--sklearn-color-text);\n",
              "  background-color: var(--sklearn-color-fitted-level-2);\n",
              "}\n",
              "\n",
              "/* Estimator label */\n",
              "\n",
              "#sk-container-id-1 div.sk-label label {\n",
              "  font-family: monospace;\n",
              "  font-weight: bold;\n",
              "  display: inline-block;\n",
              "  line-height: 1.2em;\n",
              "}\n",
              "\n",
              "#sk-container-id-1 div.sk-label-container {\n",
              "  text-align: center;\n",
              "}\n",
              "\n",
              "/* Estimator-specific */\n",
              "#sk-container-id-1 div.sk-estimator {\n",
              "  font-family: monospace;\n",
              "  border: 1px dotted var(--sklearn-color-border-box);\n",
              "  border-radius: 0.25em;\n",
              "  box-sizing: border-box;\n",
              "  margin-bottom: 0.5em;\n",
              "  /* unfitted */\n",
              "  background-color: var(--sklearn-color-unfitted-level-0);\n",
              "}\n",
              "\n",
              "#sk-container-id-1 div.sk-estimator.fitted {\n",
              "  /* fitted */\n",
              "  background-color: var(--sklearn-color-fitted-level-0);\n",
              "}\n",
              "\n",
              "/* on hover */\n",
              "#sk-container-id-1 div.sk-estimator:hover {\n",
              "  /* unfitted */\n",
              "  background-color: var(--sklearn-color-unfitted-level-2);\n",
              "}\n",
              "\n",
              "#sk-container-id-1 div.sk-estimator.fitted:hover {\n",
              "  /* fitted */\n",
              "  background-color: var(--sklearn-color-fitted-level-2);\n",
              "}\n",
              "\n",
              "/* Specification for estimator info (e.g. \"i\" and \"?\") */\n",
              "\n",
              "/* Common style for \"i\" and \"?\" */\n",
              "\n",
              ".sk-estimator-doc-link,\n",
              "a:link.sk-estimator-doc-link,\n",
              "a:visited.sk-estimator-doc-link {\n",
              "  float: right;\n",
              "  font-size: smaller;\n",
              "  line-height: 1em;\n",
              "  font-family: monospace;\n",
              "  background-color: var(--sklearn-color-background);\n",
              "  border-radius: 1em;\n",
              "  height: 1em;\n",
              "  width: 1em;\n",
              "  text-decoration: none !important;\n",
              "  margin-left: 0.5em;\n",
              "  text-align: center;\n",
              "  /* unfitted */\n",
              "  border: var(--sklearn-color-unfitted-level-1) 1pt solid;\n",
              "  color: var(--sklearn-color-unfitted-level-1);\n",
              "}\n",
              "\n",
              ".sk-estimator-doc-link.fitted,\n",
              "a:link.sk-estimator-doc-link.fitted,\n",
              "a:visited.sk-estimator-doc-link.fitted {\n",
              "  /* fitted */\n",
              "  border: var(--sklearn-color-fitted-level-1) 1pt solid;\n",
              "  color: var(--sklearn-color-fitted-level-1);\n",
              "}\n",
              "\n",
              "/* On hover */\n",
              "div.sk-estimator:hover .sk-estimator-doc-link:hover,\n",
              ".sk-estimator-doc-link:hover,\n",
              "div.sk-label-container:hover .sk-estimator-doc-link:hover,\n",
              ".sk-estimator-doc-link:hover {\n",
              "  /* unfitted */\n",
              "  background-color: var(--sklearn-color-unfitted-level-3);\n",
              "  color: var(--sklearn-color-background);\n",
              "  text-decoration: none;\n",
              "}\n",
              "\n",
              "div.sk-estimator.fitted:hover .sk-estimator-doc-link.fitted:hover,\n",
              ".sk-estimator-doc-link.fitted:hover,\n",
              "div.sk-label-container:hover .sk-estimator-doc-link.fitted:hover,\n",
              ".sk-estimator-doc-link.fitted:hover {\n",
              "  /* fitted */\n",
              "  background-color: var(--sklearn-color-fitted-level-3);\n",
              "  color: var(--sklearn-color-background);\n",
              "  text-decoration: none;\n",
              "}\n",
              "\n",
              "/* Span, style for the box shown on hovering the info icon */\n",
              ".sk-estimator-doc-link span {\n",
              "  display: none;\n",
              "  z-index: 9999;\n",
              "  position: relative;\n",
              "  font-weight: normal;\n",
              "  right: .2ex;\n",
              "  padding: .5ex;\n",
              "  margin: .5ex;\n",
              "  width: min-content;\n",
              "  min-width: 20ex;\n",
              "  max-width: 50ex;\n",
              "  color: var(--sklearn-color-text);\n",
              "  box-shadow: 2pt 2pt 4pt #999;\n",
              "  /* unfitted */\n",
              "  background: var(--sklearn-color-unfitted-level-0);\n",
              "  border: .5pt solid var(--sklearn-color-unfitted-level-3);\n",
              "}\n",
              "\n",
              ".sk-estimator-doc-link.fitted span {\n",
              "  /* fitted */\n",
              "  background: var(--sklearn-color-fitted-level-0);\n",
              "  border: var(--sklearn-color-fitted-level-3);\n",
              "}\n",
              "\n",
              ".sk-estimator-doc-link:hover span {\n",
              "  display: block;\n",
              "}\n",
              "\n",
              "/* \"?\"-specific style due to the `<a>` HTML tag */\n",
              "\n",
              "#sk-container-id-1 a.estimator_doc_link {\n",
              "  float: right;\n",
              "  font-size: 1rem;\n",
              "  line-height: 1em;\n",
              "  font-family: monospace;\n",
              "  background-color: var(--sklearn-color-background);\n",
              "  border-radius: 1rem;\n",
              "  height: 1rem;\n",
              "  width: 1rem;\n",
              "  text-decoration: none;\n",
              "  /* unfitted */\n",
              "  color: var(--sklearn-color-unfitted-level-1);\n",
              "  border: var(--sklearn-color-unfitted-level-1) 1pt solid;\n",
              "}\n",
              "\n",
              "#sk-container-id-1 a.estimator_doc_link.fitted {\n",
              "  /* fitted */\n",
              "  border: var(--sklearn-color-fitted-level-1) 1pt solid;\n",
              "  color: var(--sklearn-color-fitted-level-1);\n",
              "}\n",
              "\n",
              "/* On hover */\n",
              "#sk-container-id-1 a.estimator_doc_link:hover {\n",
              "  /* unfitted */\n",
              "  background-color: var(--sklearn-color-unfitted-level-3);\n",
              "  color: var(--sklearn-color-background);\n",
              "  text-decoration: none;\n",
              "}\n",
              "\n",
              "#sk-container-id-1 a.estimator_doc_link.fitted:hover {\n",
              "  /* fitted */\n",
              "  background-color: var(--sklearn-color-fitted-level-3);\n",
              "}\n",
              "</style><div id=\"sk-container-id-1\" class=\"sk-top-container\"><div class=\"sk-text-repr-fallback\"><pre>TfidfTransformer()</pre><b>In a Jupyter environment, please rerun this cell to show the HTML representation or trust the notebook. <br />On GitHub, the HTML representation is unable to render, please try loading this page with nbviewer.org.</b></div><div class=\"sk-container\" hidden><div class=\"sk-item\"><div class=\"sk-estimator fitted sk-toggleable\"><input class=\"sk-toggleable__control sk-hidden--visually\" id=\"sk-estimator-id-1\" type=\"checkbox\" checked><label for=\"sk-estimator-id-1\" class=\"sk-toggleable__label fitted sk-toggleable__label-arrow\"><div><div>TfidfTransformer</div></div><div><a class=\"sk-estimator-doc-link fitted\" rel=\"noreferrer\" target=\"_blank\" href=\"https://scikit-learn.org/1.6/modules/generated/sklearn.feature_extraction.text.TfidfTransformer.html\">?<span>Documentation for TfidfTransformer</span></a><span class=\"sk-estimator-doc-link fitted\">i<span>Fitted</span></span></div></label><div class=\"sk-toggleable__content fitted\"><pre>TfidfTransformer()</pre></div> </div></div></div></div>"
            ]
          },
          "metadata": {},
          "execution_count": 33
        }
      ]
    },
    {
      "cell_type": "code",
      "source": [
        "tfidf_transformer.idf_"
      ],
      "metadata": {
        "colab": {
          "base_uri": "https://localhost:8080/"
        },
        "id": "PXYjqqnd6nw-",
        "outputId": "8bfc1695-6a8c-425f-da4a-bb3ee1a3c12b"
      },
      "execution_count": null,
      "outputs": [
        {
          "output_type": "execute_result",
          "data": {
            "text/plain": [
              "array([ 7.37717703,  9.80492526,  9.51724319, ...,  8.82409601,\n",
              "       10.21039037,  9.51724319])"
            ]
          },
          "metadata": {},
          "execution_count": 43
        }
      ]
    },
    {
      "cell_type": "code",
      "source": [
        "tfidf_transformer.idf_.shape"
      ],
      "metadata": {
        "colab": {
          "base_uri": "https://localhost:8080/"
        },
        "id": "-skrXCXJ6tap",
        "outputId": "573e75da-aa2a-4038-b289-1f0e03ca65de"
      },
      "execution_count": null,
      "outputs": [
        {
          "output_type": "execute_result",
          "data": {
            "text/plain": [
              "(10000,)"
            ]
          },
          "metadata": {},
          "execution_count": 34
        }
      ]
    },
    {
      "cell_type": "markdown",
      "source": [
        "Reads a Stack Overflow test dataset, combines title and body into a single text column, preprocesses it, and stores it in a list for further use.\n",
        "Also creates separate lists for just the titles and bodies of the documents."
      ],
      "metadata": {
        "id": "HPy9BlOp-Fv3"
      }
    },
    {
      "cell_type": "code",
      "execution_count": null,
      "metadata": {
        "id": "bR5THK1EvUzP",
        "outputId": "a482ba28-9a1f-44bf-e886-ee7774dd21a7",
        "colab": {
          "base_uri": "https://localhost:8080/"
        }
      },
      "outputs": [
        {
          "output_type": "stream",
          "name": "stdout",
          "text": [
            "stackoverflow testing dataset shape:(20000, 20)\n"
          ]
        }
      ],
      "source": [
        "import pandas as pd\n",
        "\n",
        "# read test docs into a dataframe and concatenate title and body\n",
        "df_test=pd.read_json(\"/content/stackoverflow-test.json\",lines=True)\n",
        "df_test['text'] = df_test['title'] + df_test['body']\n",
        "df_test['text'] =df_test['text'].apply(lambda x:pre_process(x))\n",
        "print(f'stackoverflow testing dataset shape:{df_test.shape}')\n",
        "\n",
        "# get test docs into a list\n",
        "docs_test=df_test['text'].tolist()\n",
        "docs_title=df_test['title'].tolist()\n",
        "docs_body=df_test['body'].tolist()"
      ]
    },
    {
      "cell_type": "markdown",
      "source": [
        "The sort_coo function sorts the non-zero TF-IDF scores of a sparse matrix in descending order.\n",
        "The extract_topn_from_vector function retrieves the top N keywords and their TF-IDF scores from the sorted results."
      ],
      "metadata": {
        "id": "49clPpZx-RXu"
      }
    },
    {
      "cell_type": "code",
      "execution_count": null,
      "metadata": {
        "id": "e3tYD3G5vUzQ"
      },
      "outputs": [],
      "source": [
        "def sort_coo(coo_matrix):\n",
        "    tuples = zip(coo_matrix.col, coo_matrix.data) #tuples of (idx_word_in_vocabulary, word_tf_idf_score)\n",
        "    return sorted(tuples, key=lambda x: (x[1], x[0]), reverse=True)#sort tuples firstly according to word_tf_idf_score in descending order\n",
        "\n",
        "def extract_topn_from_vector(feature_names, sorted_items, topn=10):\n",
        "    \"\"\"get the feature names and tf-idf score of top n items\"\"\"\n",
        "\n",
        "    #use only topn items from vector\n",
        "    sorted_items = sorted_items[:topn]\n",
        "\n",
        "    score_vals = []\n",
        "    feature_vals = []\n",
        "\n",
        "    for idx, score in sorted_items:\n",
        "        fname = feature_names[idx]\n",
        "\n",
        "        #keep track of feature name and its corresponding score\n",
        "        score_vals.append(round(score, 3))\n",
        "        feature_vals.append(feature_names[idx])\n",
        "\n",
        "    #create a tuples of feature,score\n",
        "    #results = zip(feature_vals,score_vals)\n",
        "    results= {}\n",
        "    for idx in range(len(feature_vals)):\n",
        "        results[feature_vals[idx]]=score_vals[idx]\n",
        "\n",
        "    return results\n",
        "\n",
        "#simplified version\n",
        "def extract_topn_from_vector2(feature_names, sorted_items, topn=10):\n",
        "    \"\"\"get the feature names and tf-idf score of top n items\"\"\"\n",
        "\n",
        "    #use only topn items from vector\n",
        "    sorted_items = sorted_items[:topn]\n",
        "    #results is a look-up dict\n",
        "    results = {}\n",
        "\n",
        "    for idx, score in sorted_items:\n",
        "        fname = feature_names[idx]\n",
        "        results[fname] = round(score,3) #a dict: key:value,where key is word and value is word's tf_idf score\n",
        "\n",
        "    return results"
      ]
    },
    {
      "cell_type": "markdown",
      "source": [
        "Extracts the top 10 keywords with the highest TF-IDF scores from the first test document using a trained vectorizer and transformer.\n",
        "Then prints the document’s title, body, and the extracted keywords with their scores."
      ],
      "metadata": {
        "id": "c_38Ox-z-d9m"
      }
    },
    {
      "cell_type": "code",
      "source": [
        "\n",
        "feature_names = cv.get_feature_names_out()\n",
        "\n",
        "\n",
        "# get the document that we want to extract keywords from\n",
        "doc=docs_test[0] # get the first record from a list of text strings\n",
        "\n",
        "#generate tf-idf score vector for the given document - a key command to calculate tf-idf score!\n",
        "tf_idf_vector=tfidf_transformer.transform(cv.transform([doc]))\n",
        "\n",
        "#sort the tf-idf vectors by descending order of scores\n",
        "sorted_items=sort_coo(tf_idf_vector.tocoo())\n",
        "\n",
        "#extract only the top n; n here is 10, custom it to any top N value\n",
        "top_n=10\n",
        "#keywords=extract_topn_from_vector(feature_names,sorted_items,10)\n",
        "keywords=extract_topn_from_vector2(feature_names,sorted_items,top_n)\n",
        "\n",
        "# now print the results\n",
        "print(\"\\n=====Title=====\")\n",
        "print(docs_title[0])\n",
        "print(\"\\n=====Body=====\")\n",
        "print(docs_body[0])\n",
        "print(\"\\n===Keywords===\")\n",
        "for k in keywords:\n",
        "    print(k,keywords[k])"
      ],
      "metadata": {
        "colab": {
          "base_uri": "https://localhost:8080/"
        },
        "id": "mwgCDAotyo0B",
        "outputId": "10d68cac-1297-4a22-908a-f2e77a71558a"
      },
      "execution_count": null,
      "outputs": [
        {
          "output_type": "stream",
          "name": "stdout",
          "text": [
            "\n",
            "=====Title=====\n",
            "Serializing a private struct - Can it be done?\n",
            "\n",
            "=====Body=====\n",
            "<p>I have a public class that contains a private struct. The struct contains properties (mostly string) that I want to serialize. When I attempt to serialize the struct and stream it to disk, using XmlSerializer, I get an error saying only public types can be serialized. I don't need, and don't want, this struct to be public. Is there a way I can serialize it and keep it private?</p>\n",
            "\n",
            "===Keywords===\n",
            "struct 0.638\n",
            "serialize 0.442\n",
            "private 0.267\n",
            "public 0.214\n",
            "contains 0.19\n",
            "xmlserializer 0.186\n",
            "serializing 0.184\n",
            "serialized 0.166\n",
            "disk 0.146\n",
            "don 0.144\n"
          ]
        }
      ]
    },
    {
      "cell_type": "markdown",
      "source": [
        "Uses a custom text sample (myText) to extract the top 10 keywords based on TF-IDF scores and prints the original text along with its top keywords."
      ],
      "metadata": {
        "id": "N8bCd2F5-o0-"
      }
    },
    {
      "cell_type": "code",
      "source": [
        "# you only needs to do this once\n",
        "#feature_names=cv.get_feature_names()\n",
        "\n",
        "# get the document that we want to extract keywords from\n",
        "#doc=docs_test[0] # a list of text strings\n",
        "doc = myText #the orginal text sample above\n",
        "\n",
        "#generate tf-idf for the given document - a key command to calculate tf-idf!\n",
        "tf_idf_vector=tfidf_transformer.transform(cv.transform([doc]))\n",
        "#sort the tf-idf vectors by descending order of scores\n",
        "sorted_items=sort_coo(tf_idf_vector.tocoo())\n",
        "#extract only the top n; n here is 10\n",
        "#keywords=extract_topn_from_vector(feature_names,sorted_items,10)\n",
        "keywords=extract_topn_from_vector2(feature_names,sorted_items,10)\n",
        "# now print the results\n",
        "print(\"\\n=====Raw Text=====\")\n",
        "print(doc)\n",
        "print(\"\\n===Keywords===\")\n",
        "for k in keywords:\n",
        "    print(k,keywords[k])"
      ],
      "metadata": {
        "colab": {
          "base_uri": "https://localhost:8080/"
        },
        "id": "DlAh6_WIzx3H",
        "outputId": "783b2b3f-ba87-4f47-86b6-a17e9a1cd58b"
      },
      "execution_count": null,
      "outputs": [
        {
          "output_type": "stream",
          "name": "stdout",
          "text": [
            "\n",
            "=====Raw Text=====\n",
            "\n",
            "Keyword extraction allows business to sift through big data to capture the most important words that best\n",
            "describe the text (e.g. customer review) in just seconds, obtain insights about the topics that your customers are\n",
            "talking about while saving your teams many hours of manual processing.\n",
            "It also provides you with actionable insights that you can use to make better business decisions.\n",
            "The best thing about keyword extraction models is that they are easy to set up and implement.\n",
            "Keyword extraction can help you obtain the most important keywords or key phrases from a given text without having to actually read a single line.\n",
            "\n",
            "\n",
            "===Keywords===\n",
            "extraction 0.478\n",
            "keyword 0.367\n",
            "insights 0.309\n",
            "business 0.241\n",
            "obtain 0.237\n",
            "important 0.222\n",
            "best 0.167\n",
            "decisions 0.164\n",
            "teams 0.155\n",
            "topics 0.139\n"
          ]
        }
      ]
    },
    {
      "cell_type": "markdown",
      "source": [
        "ANOTHER EXAMPLE OUT OF TRAINING DOMAIN TO TEST"
      ],
      "metadata": {
        "id": "vT1tCkgf0PKv"
      }
    },
    {
      "cell_type": "markdown",
      "source": [
        "Applies TF-IDF keyword extraction on a hardcoded text about Open Digital Architecture, then prints the original input and its top 10 keywords based on relevance."
      ],
      "metadata": {
        "id": "c1B1SWJX-wCG"
      }
    },
    {
      "cell_type": "code",
      "source": [
        "# you only needs to do this once\n",
        "#feature_names=cv.get_feature_names()\n",
        "\n",
        "# get the document that we want to extract keywords from\n",
        "#doc=docs_test[0] # a list of text strings\n",
        "doc = '''Open Digital Architecture. ODA transforms business agility,\n",
        "customer experience and operational efficiency\n",
        "by creating simpler IT solutions\n",
        "that are easier and cheaper to deploy, integrate & upgrade.''' #the TMForum ODA description\n",
        "\n",
        "#generate tf-idf for the given document - a key command to calculate tf-idf!\n",
        "tf_idf_vector=tfidf_transformer.transform(cv.transform([doc]))\n",
        "#sort the tf-idf vectors by descending order of scores\n",
        "sorted_items=sort_coo(tf_idf_vector.tocoo())\n",
        "#extract only the top n; n here is 10\n",
        "#keywords=extract_topn_from_vector(feature_names,sorted_items,10)\n",
        "keywords=extract_topn_from_vector2(feature_names,sorted_items,10)\n",
        "# now print the results\n",
        "print(\"\\n=====Raw Text=====\")\n",
        "print(doc)\n",
        "print(\"\\n===Keywords===\")\n",
        "for k in keywords:\n",
        "    print(k,keywords[k])"
      ],
      "metadata": {
        "colab": {
          "base_uri": "https://localhost:8080/"
        },
        "id": "JLbzVbG40UWH",
        "outputId": "856ad3c7-1b6a-44ec-954d-d6a4664e615d"
      },
      "execution_count": null,
      "outputs": [
        {
          "output_type": "stream",
          "name": "stdout",
          "text": [
            "\n",
            "=====Raw Text=====\n",
            "Open Digital Architecture. ODA transforms business agility, \n",
            "customer experience and operational efficiency \n",
            "by creating simpler IT solutions \n",
            "that are easier and cheaper to deploy, integrate & upgrade.\n",
            "\n",
            "===Keywords===\n",
            "digital 0.344\n",
            "efficiency 0.334\n",
            "simpler 0.308\n",
            "architecture 0.282\n",
            "upgrade 0.277\n",
            "integrate 0.276\n",
            "business 0.27\n",
            "deploy 0.256\n",
            "easier 0.253\n",
            "customer 0.252\n"
          ]
        }
      ]
    },
    {
      "cell_type": "markdown",
      "source": [
        " Enhance a bit Sklearn TF-IDF method by enabling n-gram support:"
      ],
      "metadata": {
        "id": "07B6zBfi0mcf"
      }
    },
    {
      "cell_type": "markdown",
      "source": [
        "This code uses CountVectorizer to convert a collection of text documents (docs) into a matrix of token counts, including both unigrams and bigrams. It then prints the shape of the matrix and displays a list of feature names (words) from positions 2000 to 2015.\n",
        "\n",
        "\n",
        "\n",
        "\n",
        "\n",
        "\n",
        "\n",
        "\n"
      ],
      "metadata": {
        "id": "UH-OR3a8_EIG"
      }
    },
    {
      "cell_type": "code",
      "execution_count": null,
      "metadata": {
        "id": "mmv-B4kcvUzY",
        "outputId": "1b6c0e49-5955-4a65-b594-a6e92a419b49",
        "colab": {
          "base_uri": "https://localhost:8080/"
        }
      },
      "outputs": [
        {
          "output_type": "stream",
          "name": "stdout",
          "text": [
            "(20000, 1184760)\n",
            "['_click define', '_click dim', '_click gt', '_click here', '_click object', '_click only', '_click runat', '_click sender', '_click sub', '_click system', '_click text', '_click this', '_click_', '_click_ sender', '_client']\n"
          ]
        }
      ],
      "source": [
        "from sklearn.feature_extraction.text import CountVectorizer\n",
        "\n",
        "cv = CountVectorizer(ngram_range=(1, 2))  # Unigram + Bigram\n",
        "word_count_vector = cv.fit_transform(docs)\n",
        "\n",
        "print(word_count_vector.shape)\n",
        "print(list(cv.get_feature_names_out())[2000:2015])\n"
      ]
    },
    {
      "cell_type": "markdown",
      "source": [
        "Fits a `TfidfTransformer` to the word count matrix (`word_count_vector`), transforming the raw count data into TF-IDF (Term Frequency-Inverse Document Frequency) values. It adjusts the importance of words based on their frequency across documents."
      ],
      "metadata": {
        "id": "DPj1VdxO_OmW"
      }
    },
    {
      "cell_type": "code",
      "source": [
        "tfidf_transformer.fit(word_count_vector)"
      ],
      "metadata": {
        "colab": {
          "base_uri": "https://localhost:8080/",
          "height": 80
        },
        "id": "mUXE0PHE1WhW",
        "outputId": "87fca67b-8e41-4fa5-e124-c401fea888c1"
      },
      "execution_count": null,
      "outputs": [
        {
          "output_type": "execute_result",
          "data": {
            "text/plain": [
              "TfidfTransformer()"
            ],
            "text/html": [
              "<style>#sk-container-id-2 {\n",
              "  /* Definition of color scheme common for light and dark mode */\n",
              "  --sklearn-color-text: #000;\n",
              "  --sklearn-color-text-muted: #666;\n",
              "  --sklearn-color-line: gray;\n",
              "  /* Definition of color scheme for unfitted estimators */\n",
              "  --sklearn-color-unfitted-level-0: #fff5e6;\n",
              "  --sklearn-color-unfitted-level-1: #f6e4d2;\n",
              "  --sklearn-color-unfitted-level-2: #ffe0b3;\n",
              "  --sklearn-color-unfitted-level-3: chocolate;\n",
              "  /* Definition of color scheme for fitted estimators */\n",
              "  --sklearn-color-fitted-level-0: #f0f8ff;\n",
              "  --sklearn-color-fitted-level-1: #d4ebff;\n",
              "  --sklearn-color-fitted-level-2: #b3dbfd;\n",
              "  --sklearn-color-fitted-level-3: cornflowerblue;\n",
              "\n",
              "  /* Specific color for light theme */\n",
              "  --sklearn-color-text-on-default-background: var(--sg-text-color, var(--theme-code-foreground, var(--jp-content-font-color1, black)));\n",
              "  --sklearn-color-background: var(--sg-background-color, var(--theme-background, var(--jp-layout-color0, white)));\n",
              "  --sklearn-color-border-box: var(--sg-text-color, var(--theme-code-foreground, var(--jp-content-font-color1, black)));\n",
              "  --sklearn-color-icon: #696969;\n",
              "\n",
              "  @media (prefers-color-scheme: dark) {\n",
              "    /* Redefinition of color scheme for dark theme */\n",
              "    --sklearn-color-text-on-default-background: var(--sg-text-color, var(--theme-code-foreground, var(--jp-content-font-color1, white)));\n",
              "    --sklearn-color-background: var(--sg-background-color, var(--theme-background, var(--jp-layout-color0, #111)));\n",
              "    --sklearn-color-border-box: var(--sg-text-color, var(--theme-code-foreground, var(--jp-content-font-color1, white)));\n",
              "    --sklearn-color-icon: #878787;\n",
              "  }\n",
              "}\n",
              "\n",
              "#sk-container-id-2 {\n",
              "  color: var(--sklearn-color-text);\n",
              "}\n",
              "\n",
              "#sk-container-id-2 pre {\n",
              "  padding: 0;\n",
              "}\n",
              "\n",
              "#sk-container-id-2 input.sk-hidden--visually {\n",
              "  border: 0;\n",
              "  clip: rect(1px 1px 1px 1px);\n",
              "  clip: rect(1px, 1px, 1px, 1px);\n",
              "  height: 1px;\n",
              "  margin: -1px;\n",
              "  overflow: hidden;\n",
              "  padding: 0;\n",
              "  position: absolute;\n",
              "  width: 1px;\n",
              "}\n",
              "\n",
              "#sk-container-id-2 div.sk-dashed-wrapped {\n",
              "  border: 1px dashed var(--sklearn-color-line);\n",
              "  margin: 0 0.4em 0.5em 0.4em;\n",
              "  box-sizing: border-box;\n",
              "  padding-bottom: 0.4em;\n",
              "  background-color: var(--sklearn-color-background);\n",
              "}\n",
              "\n",
              "#sk-container-id-2 div.sk-container {\n",
              "  /* jupyter's `normalize.less` sets `[hidden] { display: none; }`\n",
              "     but bootstrap.min.css set `[hidden] { display: none !important; }`\n",
              "     so we also need the `!important` here to be able to override the\n",
              "     default hidden behavior on the sphinx rendered scikit-learn.org.\n",
              "     See: https://github.com/scikit-learn/scikit-learn/issues/21755 */\n",
              "  display: inline-block !important;\n",
              "  position: relative;\n",
              "}\n",
              "\n",
              "#sk-container-id-2 div.sk-text-repr-fallback {\n",
              "  display: none;\n",
              "}\n",
              "\n",
              "div.sk-parallel-item,\n",
              "div.sk-serial,\n",
              "div.sk-item {\n",
              "  /* draw centered vertical line to link estimators */\n",
              "  background-image: linear-gradient(var(--sklearn-color-text-on-default-background), var(--sklearn-color-text-on-default-background));\n",
              "  background-size: 2px 100%;\n",
              "  background-repeat: no-repeat;\n",
              "  background-position: center center;\n",
              "}\n",
              "\n",
              "/* Parallel-specific style estimator block */\n",
              "\n",
              "#sk-container-id-2 div.sk-parallel-item::after {\n",
              "  content: \"\";\n",
              "  width: 100%;\n",
              "  border-bottom: 2px solid var(--sklearn-color-text-on-default-background);\n",
              "  flex-grow: 1;\n",
              "}\n",
              "\n",
              "#sk-container-id-2 div.sk-parallel {\n",
              "  display: flex;\n",
              "  align-items: stretch;\n",
              "  justify-content: center;\n",
              "  background-color: var(--sklearn-color-background);\n",
              "  position: relative;\n",
              "}\n",
              "\n",
              "#sk-container-id-2 div.sk-parallel-item {\n",
              "  display: flex;\n",
              "  flex-direction: column;\n",
              "}\n",
              "\n",
              "#sk-container-id-2 div.sk-parallel-item:first-child::after {\n",
              "  align-self: flex-end;\n",
              "  width: 50%;\n",
              "}\n",
              "\n",
              "#sk-container-id-2 div.sk-parallel-item:last-child::after {\n",
              "  align-self: flex-start;\n",
              "  width: 50%;\n",
              "}\n",
              "\n",
              "#sk-container-id-2 div.sk-parallel-item:only-child::after {\n",
              "  width: 0;\n",
              "}\n",
              "\n",
              "/* Serial-specific style estimator block */\n",
              "\n",
              "#sk-container-id-2 div.sk-serial {\n",
              "  display: flex;\n",
              "  flex-direction: column;\n",
              "  align-items: center;\n",
              "  background-color: var(--sklearn-color-background);\n",
              "  padding-right: 1em;\n",
              "  padding-left: 1em;\n",
              "}\n",
              "\n",
              "\n",
              "/* Toggleable style: style used for estimator/Pipeline/ColumnTransformer box that is\n",
              "clickable and can be expanded/collapsed.\n",
              "- Pipeline and ColumnTransformer use this feature and define the default style\n",
              "- Estimators will overwrite some part of the style using the `sk-estimator` class\n",
              "*/\n",
              "\n",
              "/* Pipeline and ColumnTransformer style (default) */\n",
              "\n",
              "#sk-container-id-2 div.sk-toggleable {\n",
              "  /* Default theme specific background. It is overwritten whether we have a\n",
              "  specific estimator or a Pipeline/ColumnTransformer */\n",
              "  background-color: var(--sklearn-color-background);\n",
              "}\n",
              "\n",
              "/* Toggleable label */\n",
              "#sk-container-id-2 label.sk-toggleable__label {\n",
              "  cursor: pointer;\n",
              "  display: flex;\n",
              "  width: 100%;\n",
              "  margin-bottom: 0;\n",
              "  padding: 0.5em;\n",
              "  box-sizing: border-box;\n",
              "  text-align: center;\n",
              "  align-items: start;\n",
              "  justify-content: space-between;\n",
              "  gap: 0.5em;\n",
              "}\n",
              "\n",
              "#sk-container-id-2 label.sk-toggleable__label .caption {\n",
              "  font-size: 0.6rem;\n",
              "  font-weight: lighter;\n",
              "  color: var(--sklearn-color-text-muted);\n",
              "}\n",
              "\n",
              "#sk-container-id-2 label.sk-toggleable__label-arrow:before {\n",
              "  /* Arrow on the left of the label */\n",
              "  content: \"▸\";\n",
              "  float: left;\n",
              "  margin-right: 0.25em;\n",
              "  color: var(--sklearn-color-icon);\n",
              "}\n",
              "\n",
              "#sk-container-id-2 label.sk-toggleable__label-arrow:hover:before {\n",
              "  color: var(--sklearn-color-text);\n",
              "}\n",
              "\n",
              "/* Toggleable content - dropdown */\n",
              "\n",
              "#sk-container-id-2 div.sk-toggleable__content {\n",
              "  max-height: 0;\n",
              "  max-width: 0;\n",
              "  overflow: hidden;\n",
              "  text-align: left;\n",
              "  /* unfitted */\n",
              "  background-color: var(--sklearn-color-unfitted-level-0);\n",
              "}\n",
              "\n",
              "#sk-container-id-2 div.sk-toggleable__content.fitted {\n",
              "  /* fitted */\n",
              "  background-color: var(--sklearn-color-fitted-level-0);\n",
              "}\n",
              "\n",
              "#sk-container-id-2 div.sk-toggleable__content pre {\n",
              "  margin: 0.2em;\n",
              "  border-radius: 0.25em;\n",
              "  color: var(--sklearn-color-text);\n",
              "  /* unfitted */\n",
              "  background-color: var(--sklearn-color-unfitted-level-0);\n",
              "}\n",
              "\n",
              "#sk-container-id-2 div.sk-toggleable__content.fitted pre {\n",
              "  /* unfitted */\n",
              "  background-color: var(--sklearn-color-fitted-level-0);\n",
              "}\n",
              "\n",
              "#sk-container-id-2 input.sk-toggleable__control:checked~div.sk-toggleable__content {\n",
              "  /* Expand drop-down */\n",
              "  max-height: 200px;\n",
              "  max-width: 100%;\n",
              "  overflow: auto;\n",
              "}\n",
              "\n",
              "#sk-container-id-2 input.sk-toggleable__control:checked~label.sk-toggleable__label-arrow:before {\n",
              "  content: \"▾\";\n",
              "}\n",
              "\n",
              "/* Pipeline/ColumnTransformer-specific style */\n",
              "\n",
              "#sk-container-id-2 div.sk-label input.sk-toggleable__control:checked~label.sk-toggleable__label {\n",
              "  color: var(--sklearn-color-text);\n",
              "  background-color: var(--sklearn-color-unfitted-level-2);\n",
              "}\n",
              "\n",
              "#sk-container-id-2 div.sk-label.fitted input.sk-toggleable__control:checked~label.sk-toggleable__label {\n",
              "  background-color: var(--sklearn-color-fitted-level-2);\n",
              "}\n",
              "\n",
              "/* Estimator-specific style */\n",
              "\n",
              "/* Colorize estimator box */\n",
              "#sk-container-id-2 div.sk-estimator input.sk-toggleable__control:checked~label.sk-toggleable__label {\n",
              "  /* unfitted */\n",
              "  background-color: var(--sklearn-color-unfitted-level-2);\n",
              "}\n",
              "\n",
              "#sk-container-id-2 div.sk-estimator.fitted input.sk-toggleable__control:checked~label.sk-toggleable__label {\n",
              "  /* fitted */\n",
              "  background-color: var(--sklearn-color-fitted-level-2);\n",
              "}\n",
              "\n",
              "#sk-container-id-2 div.sk-label label.sk-toggleable__label,\n",
              "#sk-container-id-2 div.sk-label label {\n",
              "  /* The background is the default theme color */\n",
              "  color: var(--sklearn-color-text-on-default-background);\n",
              "}\n",
              "\n",
              "/* On hover, darken the color of the background */\n",
              "#sk-container-id-2 div.sk-label:hover label.sk-toggleable__label {\n",
              "  color: var(--sklearn-color-text);\n",
              "  background-color: var(--sklearn-color-unfitted-level-2);\n",
              "}\n",
              "\n",
              "/* Label box, darken color on hover, fitted */\n",
              "#sk-container-id-2 div.sk-label.fitted:hover label.sk-toggleable__label.fitted {\n",
              "  color: var(--sklearn-color-text);\n",
              "  background-color: var(--sklearn-color-fitted-level-2);\n",
              "}\n",
              "\n",
              "/* Estimator label */\n",
              "\n",
              "#sk-container-id-2 div.sk-label label {\n",
              "  font-family: monospace;\n",
              "  font-weight: bold;\n",
              "  display: inline-block;\n",
              "  line-height: 1.2em;\n",
              "}\n",
              "\n",
              "#sk-container-id-2 div.sk-label-container {\n",
              "  text-align: center;\n",
              "}\n",
              "\n",
              "/* Estimator-specific */\n",
              "#sk-container-id-2 div.sk-estimator {\n",
              "  font-family: monospace;\n",
              "  border: 1px dotted var(--sklearn-color-border-box);\n",
              "  border-radius: 0.25em;\n",
              "  box-sizing: border-box;\n",
              "  margin-bottom: 0.5em;\n",
              "  /* unfitted */\n",
              "  background-color: var(--sklearn-color-unfitted-level-0);\n",
              "}\n",
              "\n",
              "#sk-container-id-2 div.sk-estimator.fitted {\n",
              "  /* fitted */\n",
              "  background-color: var(--sklearn-color-fitted-level-0);\n",
              "}\n",
              "\n",
              "/* on hover */\n",
              "#sk-container-id-2 div.sk-estimator:hover {\n",
              "  /* unfitted */\n",
              "  background-color: var(--sklearn-color-unfitted-level-2);\n",
              "}\n",
              "\n",
              "#sk-container-id-2 div.sk-estimator.fitted:hover {\n",
              "  /* fitted */\n",
              "  background-color: var(--sklearn-color-fitted-level-2);\n",
              "}\n",
              "\n",
              "/* Specification for estimator info (e.g. \"i\" and \"?\") */\n",
              "\n",
              "/* Common style for \"i\" and \"?\" */\n",
              "\n",
              ".sk-estimator-doc-link,\n",
              "a:link.sk-estimator-doc-link,\n",
              "a:visited.sk-estimator-doc-link {\n",
              "  float: right;\n",
              "  font-size: smaller;\n",
              "  line-height: 1em;\n",
              "  font-family: monospace;\n",
              "  background-color: var(--sklearn-color-background);\n",
              "  border-radius: 1em;\n",
              "  height: 1em;\n",
              "  width: 1em;\n",
              "  text-decoration: none !important;\n",
              "  margin-left: 0.5em;\n",
              "  text-align: center;\n",
              "  /* unfitted */\n",
              "  border: var(--sklearn-color-unfitted-level-1) 1pt solid;\n",
              "  color: var(--sklearn-color-unfitted-level-1);\n",
              "}\n",
              "\n",
              ".sk-estimator-doc-link.fitted,\n",
              "a:link.sk-estimator-doc-link.fitted,\n",
              "a:visited.sk-estimator-doc-link.fitted {\n",
              "  /* fitted */\n",
              "  border: var(--sklearn-color-fitted-level-1) 1pt solid;\n",
              "  color: var(--sklearn-color-fitted-level-1);\n",
              "}\n",
              "\n",
              "/* On hover */\n",
              "div.sk-estimator:hover .sk-estimator-doc-link:hover,\n",
              ".sk-estimator-doc-link:hover,\n",
              "div.sk-label-container:hover .sk-estimator-doc-link:hover,\n",
              ".sk-estimator-doc-link:hover {\n",
              "  /* unfitted */\n",
              "  background-color: var(--sklearn-color-unfitted-level-3);\n",
              "  color: var(--sklearn-color-background);\n",
              "  text-decoration: none;\n",
              "}\n",
              "\n",
              "div.sk-estimator.fitted:hover .sk-estimator-doc-link.fitted:hover,\n",
              ".sk-estimator-doc-link.fitted:hover,\n",
              "div.sk-label-container:hover .sk-estimator-doc-link.fitted:hover,\n",
              ".sk-estimator-doc-link.fitted:hover {\n",
              "  /* fitted */\n",
              "  background-color: var(--sklearn-color-fitted-level-3);\n",
              "  color: var(--sklearn-color-background);\n",
              "  text-decoration: none;\n",
              "}\n",
              "\n",
              "/* Span, style for the box shown on hovering the info icon */\n",
              ".sk-estimator-doc-link span {\n",
              "  display: none;\n",
              "  z-index: 9999;\n",
              "  position: relative;\n",
              "  font-weight: normal;\n",
              "  right: .2ex;\n",
              "  padding: .5ex;\n",
              "  margin: .5ex;\n",
              "  width: min-content;\n",
              "  min-width: 20ex;\n",
              "  max-width: 50ex;\n",
              "  color: var(--sklearn-color-text);\n",
              "  box-shadow: 2pt 2pt 4pt #999;\n",
              "  /* unfitted */\n",
              "  background: var(--sklearn-color-unfitted-level-0);\n",
              "  border: .5pt solid var(--sklearn-color-unfitted-level-3);\n",
              "}\n",
              "\n",
              ".sk-estimator-doc-link.fitted span {\n",
              "  /* fitted */\n",
              "  background: var(--sklearn-color-fitted-level-0);\n",
              "  border: var(--sklearn-color-fitted-level-3);\n",
              "}\n",
              "\n",
              ".sk-estimator-doc-link:hover span {\n",
              "  display: block;\n",
              "}\n",
              "\n",
              "/* \"?\"-specific style due to the `<a>` HTML tag */\n",
              "\n",
              "#sk-container-id-2 a.estimator_doc_link {\n",
              "  float: right;\n",
              "  font-size: 1rem;\n",
              "  line-height: 1em;\n",
              "  font-family: monospace;\n",
              "  background-color: var(--sklearn-color-background);\n",
              "  border-radius: 1rem;\n",
              "  height: 1rem;\n",
              "  width: 1rem;\n",
              "  text-decoration: none;\n",
              "  /* unfitted */\n",
              "  color: var(--sklearn-color-unfitted-level-1);\n",
              "  border: var(--sklearn-color-unfitted-level-1) 1pt solid;\n",
              "}\n",
              "\n",
              "#sk-container-id-2 a.estimator_doc_link.fitted {\n",
              "  /* fitted */\n",
              "  border: var(--sklearn-color-fitted-level-1) 1pt solid;\n",
              "  color: var(--sklearn-color-fitted-level-1);\n",
              "}\n",
              "\n",
              "/* On hover */\n",
              "#sk-container-id-2 a.estimator_doc_link:hover {\n",
              "  /* unfitted */\n",
              "  background-color: var(--sklearn-color-unfitted-level-3);\n",
              "  color: var(--sklearn-color-background);\n",
              "  text-decoration: none;\n",
              "}\n",
              "\n",
              "#sk-container-id-2 a.estimator_doc_link.fitted:hover {\n",
              "  /* fitted */\n",
              "  background-color: var(--sklearn-color-fitted-level-3);\n",
              "}\n",
              "</style><div id=\"sk-container-id-2\" class=\"sk-top-container\"><div class=\"sk-text-repr-fallback\"><pre>TfidfTransformer()</pre><b>In a Jupyter environment, please rerun this cell to show the HTML representation or trust the notebook. <br />On GitHub, the HTML representation is unable to render, please try loading this page with nbviewer.org.</b></div><div class=\"sk-container\" hidden><div class=\"sk-item\"><div class=\"sk-estimator fitted sk-toggleable\"><input class=\"sk-toggleable__control sk-hidden--visually\" id=\"sk-estimator-id-2\" type=\"checkbox\" checked><label for=\"sk-estimator-id-2\" class=\"sk-toggleable__label fitted sk-toggleable__label-arrow\"><div><div>TfidfTransformer</div></div><div><a class=\"sk-estimator-doc-link fitted\" rel=\"noreferrer\" target=\"_blank\" href=\"https://scikit-learn.org/1.6/modules/generated/sklearn.feature_extraction.text.TfidfTransformer.html\">?<span>Documentation for TfidfTransformer</span></a><span class=\"sk-estimator-doc-link fitted\">i<span>Fitted</span></span></div></label><div class=\"sk-toggleable__content fitted\"><pre>TfidfTransformer()</pre></div> </div></div></div></div>"
            ]
          },
          "metadata": {},
          "execution_count": 47
        }
      ]
    },
    {
      "cell_type": "markdown",
      "source": [
        "This function extracts the top N keywords from a given document index (idx) by first calculating the TF-IDF vector for the document. It then sorts the TF-IDF scores and returns the top N keywords based on their importance."
      ],
      "metadata": {
        "id": "z_aexupw_W8O"
      }
    },
    {
      "cell_type": "code",
      "source": [
        "# Function to get top N keywords from a given document index\n",
        "def get_keywords(idx, top_n=10):\n",
        "    # Get the document to process\n",
        "    doc = docs_test[idx]\n",
        "\n",
        "    # Generate the TF-IDF vector for this document\n",
        "    tf_idf_vector = tfidf_transformer.transform(cv.transform([doc]))\n",
        "\n",
        "    # Sort the TF-IDF values\n",
        "    sorted_items = sort_coo(tf_idf_vector.tocoo())\n",
        "\n",
        "    # Extract top N keywords based on sorted TF-IDF scores\n",
        "    keywords = extract_topn_from_vector2(feature_names, sorted_items, top_n)\n",
        "    return keywords\n"
      ],
      "metadata": {
        "id": "QYHu6JSq2Xae"
      },
      "execution_count": null,
      "outputs": []
    },
    {
      "cell_type": "code",
      "source": [
        "def print_results(idx, keywords):\n",
        "    print(\"\\n===== Title =====\")\n",
        "    print(docs_title[idx])  # Assuming you have a list of titles `docs_title`\n",
        "    print(\"\\n===== Body =====\")\n",
        "    print(docs_body[idx])  # Assuming you have a list of bodies `docs_body`\n",
        "    print(\"\\n=== Keywords ===\")\n",
        "    for word, score in keywords.items():\n",
        "        print(f\"{word}: {round(score, 4)}\")  # Printing keyword with score rounded to 4 decimal places\n"
      ],
      "metadata": {
        "id": "WBXX3c622fQF"
      },
      "execution_count": null,
      "outputs": []
    },
    {
      "cell_type": "markdown",
      "source": [
        "This code retrieves the feature names (words) from the CountVectorizer and then uses the get_keywords function to extract the top keywords for a specific document (indexed by idx = 120). It finally prints the results using the print_results function."
      ],
      "metadata": {
        "id": "KnjTq8fS_rCd"
      }
    },
    {
      "cell_type": "code",
      "source": [
        "# Re-do the test\n",
        "# you only need to do this once\n",
        "feature_names = cv.get_feature_names_out()\n",
        "\n",
        "idx = 120  # to (randomly) pick a Stack Overflow test sample\n",
        "keywords = get_keywords(idx)\n",
        "print_results(idx, keywords)\n"
      ],
      "metadata": {
        "colab": {
          "base_uri": "https://localhost:8080/"
        },
        "id": "c3x_pJgX1cZ2",
        "outputId": "a977445c-d960-4f8b-f2e0-4c1dac87b0b9"
      },
      "execution_count": null,
      "outputs": [
        {
          "output_type": "stream",
          "name": "stdout",
          "text": [
            "\n",
            "===== Title =====\n",
            "Automatic Login Via Devise after Password Change\n",
            "\n",
            "===== Body =====\n",
            "<p>When i change the password in my app via devise, the user gets logged out.\n",
            "Is there a quick way so that the same user will get signed in and redirected to some path in devise without doing anything in view.</p>\n",
            "\n",
            "=== Keywords ===\n",
            "devise: 0.342\n",
            "via devise: 0.314\n",
            "get signed: 0.157\n",
            "devise without: 0.157\n",
            "devise after: 0.157\n",
            "and redirected: 0.157\n",
            "after password: 0.157\n",
            "password change: 0.151\n",
            "devise the: 0.151\n",
            "automatic login: 0.146\n"
          ]
        }
      ]
    },
    {
      "cell_type": "markdown",
      "source": [
        "OUT OF DOMAIN TESTING  NEUROSCIENCE FOR TF IDF METHOD"
      ],
      "metadata": {
        "id": "xJYmtbzm2zIz"
      }
    },
    {
      "cell_type": "markdown",
      "source": [
        "This code defines a custom document (doc), generates its TF-IDF vector using the previously trained tfidf_transformer and cv, and sorts the TF-IDF values. It then extracts the top 10 keywords from the document based on their importance and prints both the raw text and the extracted keywords with their respective scores."
      ],
      "metadata": {
        "id": "Ay1sRhyQ_0yF"
      }
    },
    {
      "cell_type": "code",
      "source": [
        "# Re-do the test\n",
        "# you only need to do this once\n",
        "feature_names = cv.get_feature_names_out()  # Use the correct method\n",
        "\n",
        "# Define a custom document for testing\n",
        "doc = '''NEUROSCIENCE CORE CONCEPTS\n",
        "The brain is the body's most complex organ.\n",
        "Genetically determined circuits are the foundation of the nervous system.\n",
        "The human brain endows us with a natural curiosity to understand how the world works.\n",
        "Fundamental discoveries promote healthy living and treatment of disease.'''\n",
        "\n",
        "# Generate tf-idf for the given document\n",
        "tf_idf_vector = tfidf_transformer.transform(cv.transform([doc]))\n",
        "\n",
        "# Sort the tf-idf vectors by descending order of scores\n",
        "sorted_items = sort_coo(tf_idf_vector.tocoo())\n",
        "\n",
        "# Extract only the top n; n here is 10\n",
        "top_n = 10\n",
        "keywords = extract_topn_from_vector2(feature_names, sorted_items, top_n)\n",
        "\n",
        "# Print the results\n",
        "print(\"\\n===== Raw Text =====\")\n",
        "print(doc)\n",
        "print(\"\\n=== Keywords ===\")\n",
        "for k in keywords:\n",
        "    print(k, keywords[k])\n"
      ],
      "metadata": {
        "colab": {
          "base_uri": "https://localhost:8080/"
        },
        "id": "YlU4xn6n2tL1",
        "outputId": "366edffb-69ae-4dd2-8bca-5192069b4187"
      },
      "execution_count": null,
      "outputs": [
        {
          "output_type": "stream",
          "name": "stdout",
          "text": [
            "\n",
            "===== Raw Text =====\n",
            "NEUROSCIENCE CORE CONCEPTS\n",
            "The brain is the body's most complex organ.\n",
            "Genetically determined circuits are the foundation of the nervous system.\n",
            "The human brain endows us with a natural curiosity to understand how the world works.\n",
            "Fundamental discoveries promote healthy living and treatment of disease.\n",
            "\n",
            "=== Keywords ===\n",
            "brain 0.331\n",
            "us with 0.209\n",
            "the human 0.209\n",
            "most complex 0.209\n",
            "foundation of 0.209\n",
            "nervous 0.201\n",
            "the foundation 0.195\n",
            "promote 0.195\n",
            "living 0.195\n",
            "disease 0.195\n"
          ]
        }
      ]
    }
  ]
}